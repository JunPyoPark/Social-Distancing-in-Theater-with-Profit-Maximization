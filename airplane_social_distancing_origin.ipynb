{
 "cells": [
  {
   "cell_type": "markdown",
   "id": "c55be7e3",
   "metadata": {},
   "source": [
    "# Social distancing in airplane seat assignments(2020)\n",
    "\n",
    "<div style=\"float: right\">Salari et al.</div>"
   ]
  },
  {
   "cell_type": "markdown",
   "id": "a076a686",
   "metadata": {},
   "source": [
    "<div style=\"float: right\">Coded by JunPyo Park</div>"
   ]
  },
  {
   "cell_type": "markdown",
   "id": "b91f46b1",
   "metadata": {
    "toc": true
   },
   "source": [
    "<h1>Table of Contents<span class=\"tocSkip\"></span></h1>\n",
    "<div class=\"toc\"><ul class=\"toc-item\"><li><span><a href=\"#그림-그리기-준비\" data-toc-modified-id=\"그림-그리기-준비-1\"><span class=\"toc-item-num\">1&nbsp;&nbsp;</span>그림 그리기 준비</a></span><ul class=\"toc-item\"><li><span><a href=\"#좌석-배치를-좌표계로-옮기기\" data-toc-modified-id=\"좌석-배치를-좌표계로-옮기기-1.1\"><span class=\"toc-item-num\">1.1&nbsp;&nbsp;</span>좌석 배치를 좌표계로 옮기기</a></span></li></ul></li><li><span><a href=\"#Beta-계산\" data-toc-modified-id=\"Beta-계산-2\"><span class=\"toc-item-num\">2&nbsp;&nbsp;</span>Beta 계산</a></span></li><li><span><a href=\"#parameter-setting\" data-toc-modified-id=\"parameter-setting-3\"><span class=\"toc-item-num\">3&nbsp;&nbsp;</span>parameter setting</a></span><ul class=\"toc-item\"><li><span><a href=\"#$\\lambda_\\gamma$-:-row-배치에-영향을-주는-파라미터\" data-toc-modified-id=\"$\\lambda_\\gamma$-:-row-배치에-영향을-주는-파라미터-3.1\"><span class=\"toc-item-num\">3.1&nbsp;&nbsp;</span>$\\lambda_\\gamma$ : row 배치에 영향을 주는 파라미터</a></span></li><li><span><a href=\"#other_parameters\" data-toc-modified-id=\"other_parameters-3.2\"><span class=\"toc-item-num\">3.2&nbsp;&nbsp;</span>other_parameters</a></span></li></ul></li><li><span><a href=\"#GUROBI-Solver\" data-toc-modified-id=\"GUROBI-Solver-4\"><span class=\"toc-item-num\">4&nbsp;&nbsp;</span>GUROBI Solver</a></span><ul class=\"toc-item\"><li><span><a href=\"#Model-1.-$Z=min(w_1-Z_1-+-w_2-Z_2)$\" data-toc-modified-id=\"Model-1.-$Z=min(w_1-Z_1-+-w_2-Z_2)$-4.1\"><span class=\"toc-item-num\">4.1&nbsp;&nbsp;</span>Model 1. $Z=min(w_1 Z_1 + w_2 Z_2)$</a></span><ul class=\"toc-item\"><li><span><a href=\"#Variables\" data-toc-modified-id=\"Variables-4.1.1\"><span class=\"toc-item-num\">4.1.1&nbsp;&nbsp;</span>Variables</a></span></li><li><span><a href=\"#Constraint-1.-Occupancy-constraint-(Eq.-(6))\" data-toc-modified-id=\"Constraint-1.-Occupancy-constraint-(Eq.-(6))-4.1.2\"><span class=\"toc-item-num\">4.1.2&nbsp;&nbsp;</span>Constraint 1. Occupancy constraint (Eq. (6))</a></span></li><li><span><a href=\"#Constraint-2-(Eq.-(7))\" data-toc-modified-id=\"Constraint-2-(Eq.-(7))-4.1.3\"><span class=\"toc-item-num\">4.1.3&nbsp;&nbsp;</span>Constraint 2 (Eq. (7))</a></span></li><li><span><a href=\"#objective-z_1-(Eq.-(4))\" data-toc-modified-id=\"objective-z_1-(Eq.-(4))-4.1.4\"><span class=\"toc-item-num\">4.1.4&nbsp;&nbsp;</span>objective z_1 (Eq. (4))</a></span></li><li><span><a href=\"#objective-z_2-(Eq.-(5))\" data-toc-modified-id=\"objective-z_2-(Eq.-(5))-4.1.5\"><span class=\"toc-item-num\">4.1.5&nbsp;&nbsp;</span>objective z_2 (Eq. (5))</a></span></li><li><span><a href=\"#Final-Objective-(Eq.(3))\" data-toc-modified-id=\"Final-Objective-(Eq.(3))-4.1.6\"><span class=\"toc-item-num\">4.1.6&nbsp;&nbsp;</span>Final Objective (Eq.(3))</a></span></li><li><span><a href=\"#Optimize-Model-1\" data-toc-modified-id=\"Optimize-Model-1-4.1.7\"><span class=\"toc-item-num\">4.1.7&nbsp;&nbsp;</span>Optimize Model 1</a></span></li></ul></li><li><span><a href=\"#Model-2.-Maximizing-the-(safe)-load-of-passengers\" data-toc-modified-id=\"Model-2.-Maximizing-the-(safe)-load-of-passengers-4.2\"><span class=\"toc-item-num\">4.2&nbsp;&nbsp;</span>Model 2. Maximizing the (safe) load of passengers</a></span><ul class=\"toc-item\"><li><span><a href=\"#Setting-the-parameter-$\\eta_Z$\" data-toc-modified-id=\"Setting-the-parameter-$\\eta_Z$-4.2.1\"><span class=\"toc-item-num\">4.2.1&nbsp;&nbsp;</span>Setting the parameter $\\eta_Z$</a></span></li><li><span><a href=\"#Variables\" data-toc-modified-id=\"Variables-4.2.2\"><span class=\"toc-item-num\">4.2.2&nbsp;&nbsp;</span>Variables</a></span></li><li><span><a href=\"#Constraints-1-(Eq.-(9))\" data-toc-modified-id=\"Constraints-1-(Eq.-(9))-4.2.3\"><span class=\"toc-item-num\">4.2.3&nbsp;&nbsp;</span>Constraints 1 (Eq. (9))</a></span></li><li><span><a href=\"#Constraints-2-(Eq.-(10))\" data-toc-modified-id=\"Constraints-2-(Eq.-(10))-4.2.4\"><span class=\"toc-item-num\">4.2.4&nbsp;&nbsp;</span>Constraints 2 (Eq. (10))</a></span></li><li><span><a href=\"#Constraints-3-(Eq.-(7))\" data-toc-modified-id=\"Constraints-3-(Eq.-(7))-4.2.5\"><span class=\"toc-item-num\">4.2.5&nbsp;&nbsp;</span>Constraints 3 (Eq. (7))</a></span></li><li><span><a href=\"#Objective-(Eq.-(8))\" data-toc-modified-id=\"Objective-(Eq.-(8))-4.2.6\"><span class=\"toc-item-num\">4.2.6&nbsp;&nbsp;</span>Objective (Eq. (8))</a></span></li><li><span><a href=\"#Optimize-Model-2\" data-toc-modified-id=\"Optimize-Model-2-4.2.7\"><span class=\"toc-item-num\">4.2.7&nbsp;&nbsp;</span>Optimize Model 2</a></span></li></ul></li></ul></li></ul></div>"
   ]
  },
  {
   "cell_type": "code",
   "execution_count": 1,
   "id": "c1405e7e",
   "metadata": {},
   "outputs": [],
   "source": [
    "from PIL import Image, ImageDraw\n",
    "import os\n",
    "import matplotlib.pyplot as plt\n",
    "import numpy as np\n",
    "import pandas as pd"
   ]
  },
  {
   "cell_type": "markdown",
   "id": "72eac272",
   "metadata": {},
   "source": [
    "## 그림 그리기 준비"
   ]
  },
  {
   "cell_type": "code",
   "execution_count": 2,
   "id": "40fc445e",
   "metadata": {},
   "outputs": [],
   "source": [
    "class color_scheme():\n",
    "    def __init__(self):\n",
    "        self.black = (0,0,0)\n",
    "        self.white = (255,255,255)\n",
    "        self.safe = (164,195,144)\n",
    "        self.danger = (253, 32, 28)\n",
    "        self.soso = (251, 248,16)\n",
    "\n",
    "def get_random_color():\n",
    "    rand_num = int(np.random.random() * 4 + 1 - 1e-10)\n",
    "    if rand_num == 1:\n",
    "        return color.safe\n",
    "    elif rand_num == 2:\n",
    "        return color.white\n",
    "    elif rand_num == 3:\n",
    "        return color.soso\n",
    "    elif rand_num == 4:\n",
    "        return color.danger"
   ]
  },
  {
   "cell_type": "code",
   "execution_count": 3,
   "id": "255dd857",
   "metadata": {},
   "outputs": [],
   "source": [
    "color = color_scheme()\n",
    "map_size = np.array([127, 640])\n",
    "map_multiple = 1\n",
    "\n",
    "im = Image.new('RGB', tuple(map_size*map_multiple), color.white)\n",
    "draw = ImageDraw.Draw(im)"
   ]
  },
  {
   "cell_type": "code",
   "execution_count": 4,
   "id": "fa32e546",
   "metadata": {},
   "outputs": [],
   "source": [
    "rows = range(20) # row\n",
    "sides = range(2) # side (left, right)\n",
    "locations = range(3) # seat location (window, middle, aisle)"
   ]
  },
  {
   "cell_type": "code",
   "execution_count": 5,
   "id": "c7c031ce",
   "metadata": {},
   "outputs": [],
   "source": [
    "seat_loc = np.zeros((20,2,3,2))\n",
    "x=0\n",
    "y=0\n",
    "seat_width = 17.5\n",
    "seat_pitch = 32\n",
    "seat_height = 28\n",
    "aisle_width = 22"
   ]
  },
  {
   "cell_type": "code",
   "execution_count": 6,
   "id": "0da12d40",
   "metadata": {},
   "outputs": [],
   "source": [
    "def draw_seat(variable_x):\n",
    "    count = 0\n",
    "    for r in rows: \n",
    "        for s in sides: \n",
    "            for l in locations: \n",
    "                if variable_x[(r,s,l)].X > 0.9: # 소수점으로 나오는거 고려\n",
    "                    fill_color = color.soso\n",
    "                    count+=1\n",
    "                else:\n",
    "                    fill_color = color.white\n",
    "\n",
    "                x = seat_loc[r][s][l][0] - seat_width/2\n",
    "                y = seat_loc[r][s][l][1] - seat_height/2 \n",
    "                draw.rectangle((x, y, x+seat_width, y+seat_height), fill=fill_color, outline=color.black)\n",
    "\n",
    "    im.save('airplane.jpg', quality=95)\n",
    "    numpy_images = np.array(im)\n",
    "    plt.imshow(numpy_images)\n",
    "    plt.show()\n",
    "    print(count, ' passengers here')"
   ]
  },
  {
   "cell_type": "markdown",
   "id": "d33b959e",
   "metadata": {},
   "source": [
    "### 좌석 배치를 좌표계로 옮기기"
   ]
  },
  {
   "cell_type": "markdown",
   "id": "c86ccfbb",
   "metadata": {},
   "source": [
    "**$l$ (location) 의 방향에 주의 해야 함**\n",
    "\n",
    "* 창 -> 중간 -> 통로 순서이기 때문에 좌석이 1,2,3 |복도| 6,5,4 순으로 생성"
   ]
  },
  {
   "cell_type": "code",
   "execution_count": 7,
   "id": "e8bdeb55",
   "metadata": {},
   "outputs": [],
   "source": [
    "for r in rows: \n",
    "    for s in sides: \n",
    "        for l in locations: \n",
    "            random_color = get_random_color()\n",
    "            draw.rectangle((x, y, x+seat_width, y+seat_height), fill=random_color, outline=color.black)\n",
    "            \n",
    "            # save location of center\n",
    "            seat_loc[r][s][l][0] = x+seat_width/2\n",
    "            seat_loc[r][s][l][1] = y+seat_height/2 \n",
    "            \n",
    "            if s :\n",
    "                x -= seat_width\n",
    "            else:\n",
    "                x += seat_width\n",
    "        x += aisle_width\n",
    "        if s == 0:\n",
    "            x += 2 * seat_width\n",
    "    x = 0\n",
    "    y += seat_pitch"
   ]
  },
  {
   "cell_type": "code",
   "execution_count": 8,
   "id": "5b809e39",
   "metadata": {
    "scrolled": true
   },
   "outputs": [
    {
     "data": {
      "text/plain": [
       "array([ 8.75, 14.  ])"
      ]
     },
     "execution_count": 8,
     "metadata": {},
     "output_type": "execute_result"
    }
   ],
   "source": [
    "seat_loc[0][0][0]"
   ]
  },
  {
   "cell_type": "code",
   "execution_count": 9,
   "id": "4bb89f84",
   "metadata": {},
   "outputs": [
    {
     "data": {
      "text/plain": [
       "array([26.25, 14.  ])"
      ]
     },
     "execution_count": 9,
     "metadata": {},
     "output_type": "execute_result"
    }
   ],
   "source": [
    "seat_loc[0][0][1]"
   ]
  },
  {
   "cell_type": "code",
   "execution_count": 10,
   "id": "b6dc4004",
   "metadata": {},
   "outputs": [
    {
     "data": {
      "text/plain": [
       "array([118.25,  14.  ])"
      ]
     },
     "execution_count": 10,
     "metadata": {},
     "output_type": "execute_result"
    }
   ],
   "source": [
    "seat_loc[0][1][0]"
   ]
  },
  {
   "cell_type": "code",
   "execution_count": 11,
   "id": "4d74bd77",
   "metadata": {},
   "outputs": [
    {
     "data": {
      "image/png": "[encoded data removed]",
      "text/plain": [
       "<Figure size 432x288 with 1 Axes>"
      ]
     },
     "metadata": {
      "needs_background": "light"
     },
     "output_type": "display_data"
    }
   ],
   "source": [
    "# im.save('data/dst/pillow_imagedraw.jpg', quality=95)\n",
    "numpy_images = np.array(im)\n",
    "plt.imshow(numpy_images)\n",
    "plt.show()"
   ]
  },
  {
   "cell_type": "markdown",
   "id": "05bb9df3",
   "metadata": {},
   "source": [
    "## Beta 계산"
   ]
  },
  {
   "cell_type": "code",
   "execution_count": 12,
   "id": "a53c3e2b",
   "metadata": {},
   "outputs": [],
   "source": [
    "def dist(seat_1, seat_2):\n",
    "    # returns the euclidean distance between two seats\n",
    "    return np.sqrt(((seat_1-seat_2)**2).sum())"
   ]
  },
  {
   "cell_type": "code",
   "execution_count": 13,
   "id": "5106311e",
   "metadata": {},
   "outputs": [],
   "source": [
    "# beta=np.zeros((20,2,3,20,2,3,2)) # r,s,l,rr,ss,ll,k\n",
    "beta = {}"
   ]
  },
  {
   "cell_type": "markdown",
   "id": "3f6f42eb",
   "metadata": {},
   "source": [
    "k 값에 따라 달라지는 Bounds 세팅"
   ]
  },
  {
   "cell_type": "code",
   "execution_count": 14,
   "id": "23cf921e",
   "metadata": {},
   "outputs": [],
   "source": [
    "bounds = np.array([[1e-10, 39.6],        # 0 ~ 3.3 ft -> 0 ~ 39.6 inches\n",
    "                   [39.6, 79.2]])    # 3.3 ~ 6.6 ft -> 39.6, ~ 79.2 inches"
   ]
  },
  {
   "cell_type": "code",
   "execution_count": 15,
   "id": "c4f6f903",
   "metadata": {
    "scrolled": true
   },
   "outputs": [],
   "source": [
    "for r in rows:\n",
    "    for s in sides: \n",
    "        for l in locations:\n",
    "            seat_1 = seat_loc[r][s][l]\n",
    "            for rr in rows:\n",
    "                for ss in sides:\n",
    "                    for ll in locations:\n",
    "                        seat_2 = seat_loc[rr][ss][ll]\n",
    "                        euc_dist = dist(seat_1, seat_2)\n",
    "                        for k in range(2):\n",
    "                            lower_bound = bounds[k][0]\n",
    "                            upper_bound = bounds[k][1]\n",
    "                            x = (r,s,l,rr,ss,ll,k)\n",
    "                            if euc_dist > lower_bound and euc_dist <= upper_bound:\n",
    "                                # beta[r][s][l][rr][ss][ll][k] = 1\n",
    "                                beta[x] = 1\n",
    "                            else:\n",
    "                                # beta[r][s][l][rr][ss][ll][k] = 0\n",
    "                                beta[x] = 0"
   ]
  },
  {
   "cell_type": "code",
   "execution_count": 16,
   "id": "6d1e5bed",
   "metadata": {},
   "outputs": [
    {
     "data": {
      "text/plain": [
       "0"
      ]
     },
     "execution_count": 16,
     "metadata": {},
     "output_type": "execute_result"
    }
   ],
   "source": [
    "beta[(0,0,0,0,0,0,0)] # 자기 자신은 0"
   ]
  },
  {
   "cell_type": "code",
   "execution_count": 17,
   "id": "27fc799c",
   "metadata": {},
   "outputs": [
    {
     "data": {
      "text/plain": [
       "1"
      ]
     },
     "execution_count": 17,
     "metadata": {},
     "output_type": "execute_result"
    }
   ],
   "source": [
    "beta[(0,0,0,0,0,1,0)]"
   ]
  },
  {
   "cell_type": "code",
   "execution_count": 18,
   "id": "6d067a84",
   "metadata": {},
   "outputs": [
    {
     "data": {
      "text/plain": [
       "1"
      ]
     },
     "execution_count": 18,
     "metadata": {},
     "output_type": "execute_result"
    }
   ],
   "source": [
    "beta[(0,0,0,0,0,2,0)]"
   ]
  },
  {
   "cell_type": "code",
   "execution_count": 19,
   "id": "d0e6ba4e",
   "metadata": {},
   "outputs": [
    {
     "data": {
      "text/plain": [
       "0"
      ]
     },
     "execution_count": 19,
     "metadata": {},
     "output_type": "execute_result"
    }
   ],
   "source": [
    "beta[(0,0,0,2,0,0,0)] # k = 0"
   ]
  },
  {
   "cell_type": "code",
   "execution_count": 20,
   "id": "893c8373",
   "metadata": {},
   "outputs": [
    {
     "data": {
      "text/plain": [
       "1"
      ]
     },
     "execution_count": 20,
     "metadata": {},
     "output_type": "execute_result"
    }
   ],
   "source": [
    "beta[(0,0,0,2,0,0,1)] # k = 1 -> 범위가 늘어나 1로 바뀜"
   ]
  },
  {
   "cell_type": "markdown",
   "id": "b0352bef",
   "metadata": {},
   "source": [
    "## parameter setting"
   ]
  },
  {
   "cell_type": "markdown",
   "id": "f0906b05",
   "metadata": {},
   "source": [
    "### $\\lambda_\\gamma$ : row 배치에 영향을 주는 파라미터"
   ]
  },
  {
   "cell_type": "code",
   "execution_count": 21,
   "id": "8ca5c413",
   "metadata": {},
   "outputs": [],
   "source": [
    "def get_lambda(gamma=1):\n",
    "    lambda_gamma = np.zeros(20)\n",
    "    for r in range(10):\n",
    "        lambda_gamma[r] = (1/(1+r)) ** (1/gamma)\n",
    "        lambda_gamma[20-r-1] = lambda_gamma[r] # symmetric\n",
    "    return lambda_gamma"
   ]
  },
  {
   "cell_type": "code",
   "execution_count": 22,
   "id": "7a1db747",
   "metadata": {},
   "outputs": [
    {
     "data": {
      "text/plain": [
       "array([1.        , 0.5       , 0.33333333, 0.25      , 0.2       ,\n",
       "       0.16666667, 0.14285714, 0.125     , 0.11111111, 0.1       ,\n",
       "       0.1       , 0.11111111, 0.125     , 0.14285714, 0.16666667,\n",
       "       0.2       , 0.25      , 0.33333333, 0.5       , 1.        ])"
      ]
     },
     "execution_count": 22,
     "metadata": {},
     "output_type": "execute_result"
    }
   ],
   "source": [
    "get_lambda(gamma=1)"
   ]
  },
  {
   "cell_type": "code",
   "execution_count": 23,
   "id": "2ac81e91",
   "metadata": {},
   "outputs": [
    {
     "data": {
      "text/plain": [
       "array([1.        , 0.92587471, 0.88508815, 0.85724398, 0.83625103,\n",
       "       0.81948074, 0.80556431, 0.79370053, 0.78338104, 0.77426368,\n",
       "       0.77426368, 0.78338104, 0.79370053, 0.80556431, 0.81948074,\n",
       "       0.83625103, 0.85724398, 0.88508815, 0.92587471, 1.        ])"
      ]
     },
     "execution_count": 23,
     "metadata": {},
     "output_type": "execute_result"
    }
   ],
   "source": [
    "get_lambda(gamma=9)"
   ]
  },
  {
   "cell_type": "code",
   "execution_count": 24,
   "id": "44713a5e",
   "metadata": {},
   "outputs": [
    {
     "data": {
      "image/png": "[encoded data removed]",
      "text/plain": [
       "<Figure size 432x288 with 1 Axes>"
      ]
     },
     "metadata": {
      "needs_background": "light"
     },
     "output_type": "display_data"
    }
   ],
   "source": [
    "plt.figure()\n",
    "plt.plot(rows,get_lambda(gamma=1), label='gamma=1')\n",
    "plt.plot(rows,get_lambda(gamma=9), label='gamma=9')\n",
    "plt.legend();"
   ]
  },
  {
   "cell_type": "markdown",
   "id": "dd0f1e3b",
   "metadata": {},
   "source": [
    "$\\gamma$가 작을수록 양끝에 배치 하는게 더 큰 페널티를 받음"
   ]
  },
  {
   "cell_type": "markdown",
   "id": "4c7e4dc9",
   "metadata": {},
   "source": [
    "### other_parameters"
   ]
  },
  {
   "cell_type": "markdown",
   "id": "4c4a8467",
   "metadata": {},
   "source": [
    "아래서 하나 골라서 실행"
   ]
  },
  {
   "cell_type": "code",
   "execution_count": 25,
   "id": "9da35bed",
   "metadata": {},
   "outputs": [],
   "source": [
    "# Scenario 1, Fig. 4\n",
    "num_passengers = 30\n",
    "\n",
    "w_1 = 0.9\n",
    "w_2 = 0.1\n",
    "\n",
    "delta = [0.9,0.1] # k에 따른 패널티\n",
    "alpha = [0,0.4,0.6] # l에 따른 패널티 (창측, 중간, 복도)\n",
    "\n",
    "lambda_gamma = get_lambda(gamma=1) # r에 따른 패널티\n",
    "# lambda_gamma = get_lambda(gamma=9)"
   ]
  },
  {
   "cell_type": "code",
   "execution_count": 26,
   "id": "2b155861",
   "metadata": {},
   "outputs": [],
   "source": [
    "# Scenario 2, Fig. 4\n",
    "\n",
    "num_passengers = 30\n",
    "\n",
    "w_1 = 0.1\n",
    "w_2 = 0.9\n",
    "\n",
    "delta = [0.6,0.4]\n",
    "alpha = [0,0.1,0.9]\n",
    "\n",
    "lambda_gamma = get_lambda(gamma=1)\n",
    "# lambda_gamma = get_lambda(gamma=9)"
   ]
  },
  {
   "cell_type": "code",
   "execution_count": 68,
   "id": "137789d6",
   "metadata": {},
   "outputs": [],
   "source": [
    "# Scenario 3, Table 5\n",
    "\n",
    "num_passengers = 60\n",
    "\n",
    "w_1 = 0.5\n",
    "w_2 = 0.5\n",
    "\n",
    "# delta = [0.9,0.1]\n",
    "delta = [1,0] # 4.2 update\n",
    "alpha = [0,0.1,0.9]\n",
    "\n",
    "# lambda_gamma = get_lambda(gamma=1)\n",
    "lambda_gamma = get_lambda(gamma=9)"
   ]
  },
  {
   "cell_type": "code",
   "execution_count": 28,
   "id": "6eca6632",
   "metadata": {},
   "outputs": [],
   "source": [
    "# Fig. 6\n",
    "num_passengers = 60\n",
    "\n",
    "# Scenario 2\n",
    "w_1 = 0.1\n",
    "w_2 = 0.9\n",
    "\n",
    "delta = [0.6,0.4]\n",
    "alpha = [0,0.1,0.9]\n",
    "\n",
    "lambda_gamma = get_lambda(gamma=1)\n",
    "# lambda_gamma = get_lambda(gamma=9)"
   ]
  },
  {
   "cell_type": "code",
   "execution_count": 29,
   "id": "14819a88",
   "metadata": {},
   "outputs": [],
   "source": [
    "# Fig. 8 (a)\n",
    "num_passengers = 36\n",
    "\n",
    "# Scenario 2\n",
    "w_1 = 0.1\n",
    "w_2 = 0.9\n",
    "\n",
    "delta = [1,0]\n",
    "alpha = [0.33,0.33,0.33]\n",
    "\n",
    "lambda_gamma = get_lambda(gamma=1)\n",
    "# lambda_gamma = get_lambda(gamma=9)"
   ]
  },
  {
   "cell_type": "markdown",
   "id": "2bee1777",
   "metadata": {},
   "source": [
    "## GUROBI Solver"
   ]
  },
  {
   "cell_type": "markdown",
   "id": "69041391",
   "metadata": {},
   "source": [
    "### Model 1. $Z=min(w_1 Z_1 + w_2 Z_2)$"
   ]
  },
  {
   "cell_type": "code",
   "execution_count": 26,
   "id": "38449786",
   "metadata": {},
   "outputs": [],
   "source": [
    "import gurobipy as gp\n",
    "from gurobipy import GRB"
   ]
  },
  {
   "cell_type": "code",
   "execution_count": 27,
   "id": "40dd0a82",
   "metadata": {},
   "outputs": [],
   "source": [
    "combinations, scores = gp.multidict(beta)"
   ]
  },
  {
   "cell_type": "code",
   "execution_count": 28,
   "id": "6173ea00",
   "metadata": {},
   "outputs": [
    {
     "name": "stdout",
     "output_type": "stream",
     "text": [
      "Academic license - for non-commercial use only - expires 2021-07-07\n",
      "Using license file C:\\Users\\wnsvy\\gurobi.lic\n"
     ]
    }
   ],
   "source": [
    "m = gp.Model('Model1')"
   ]
  },
  {
   "cell_type": "markdown",
   "id": "7dcaef08",
   "metadata": {},
   "source": [
    "#### Variables"
   ]
  },
  {
   "cell_type": "markdown",
   "id": "94b1a121",
   "metadata": {},
   "source": [
    "`Z1`,`Z2`, `variable_x`, `variable_y` 생성"
   ]
  },
  {
   "cell_type": "code",
   "execution_count": 29,
   "id": "fea1fd49",
   "metadata": {},
   "outputs": [],
   "source": [
    "Z1=m.addVar(vtype=GRB.CONTINUOUS, name='Z1')\n",
    "Z2=m.addVar(vtype=GRB.CONTINUOUS, name='Z2')"
   ]
  },
  {
   "cell_type": "code",
   "execution_count": 30,
   "id": "fb757dbc",
   "metadata": {},
   "outputs": [],
   "source": [
    "y_combinations = gp.tuplelist()"
   ]
  },
  {
   "cell_type": "code",
   "execution_count": 31,
   "id": "2d009859",
   "metadata": {},
   "outputs": [],
   "source": [
    "for r in rows:\n",
    "    for s in sides:\n",
    "        for l in locations:\n",
    "            for rr in rows:\n",
    "                for ss in sides:\n",
    "                    for ll in locations:\n",
    "                        y_combinations.append((r,s,l,rr,ss,ll))"
   ]
  },
  {
   "cell_type": "code",
   "execution_count": 32,
   "id": "ab8d2fea",
   "metadata": {},
   "outputs": [],
   "source": [
    "variable_y = m.addVars(y_combinations, name = 'variable_Y',vtype=GRB.BINARY)"
   ]
  },
  {
   "cell_type": "code",
   "execution_count": 33,
   "id": "08f5129d",
   "metadata": {},
   "outputs": [],
   "source": [
    "x_combinations = gp.tuplelist()"
   ]
  },
  {
   "cell_type": "code",
   "execution_count": 34,
   "id": "b1e239a3",
   "metadata": {},
   "outputs": [],
   "source": [
    "for r in rows:\n",
    "    for s in sides:\n",
    "        for l in locations:\n",
    "            x_combinations.append((r,s,l))"
   ]
  },
  {
   "cell_type": "code",
   "execution_count": 35,
   "id": "9823c762",
   "metadata": {},
   "outputs": [],
   "source": [
    "variable_x = m.addVars(x_combinations, name='variable_X',vtype=GRB.BINARY)"
   ]
  },
  {
   "cell_type": "markdown",
   "id": "339e8283",
   "metadata": {},
   "source": [
    "#### Constraint 1. Occupancy constraint (Eq. (6))"
   ]
  },
  {
   "cell_type": "code",
   "execution_count": 78,
   "id": "c2e4b8c9",
   "metadata": {},
   "outputs": [],
   "source": [
    "passenger_constr = m.addConstr(variable_x.sum() == num_passengers, name='passenger_constr')"
   ]
  },
  {
   "cell_type": "markdown",
   "id": "e931af40",
   "metadata": {},
   "source": [
    "#### Constraint 2 (Eq. (7))"
   ]
  },
  {
   "cell_type": "code",
   "execution_count": 79,
   "id": "3c670af5",
   "metadata": {},
   "outputs": [],
   "source": [
    "for r in rows:\n",
    "    for s in sides:\n",
    "        for l in locations:\n",
    "            loc_1 = (r,s,l)\n",
    "            for rr in rows:\n",
    "                for ss in sides:\n",
    "                    for ll in locations:\n",
    "                        loc_2 = (rr,ss,ll)\n",
    "                        if loc_1 == loc_2:\n",
    "                            pass\n",
    "                        else:\n",
    "                            m.addConstr(variable_x[loc_1] + variable_x[loc_2] - 1 <= variable_y[(loc_1+loc_2)])"
   ]
  },
  {
   "cell_type": "markdown",
   "id": "a045c484",
   "metadata": {},
   "source": [
    "```python\n",
    "m.addConstrs((variable_x[(r,s,l)] + variable_x[(rr,ss,ll)] - 1 <= \n",
    "              variable_y[(r,s,l,rr,ss,ll)] \n",
    "              for r in rows\n",
    "              for s in sides\n",
    "              for l in locations\n",
    "              for rr in rows\n",
    "              for ss in sides\n",
    "              for ll in locations\n",
    "              if (r,s,l) != (rr,ss,ll)), name='y_constr')\n",
    "```"
   ]
  },
  {
   "cell_type": "markdown",
   "id": "c53b2c5a",
   "metadata": {},
   "source": [
    "둘다 똑같이 나옴"
   ]
  },
  {
   "cell_type": "markdown",
   "id": "842c98d4",
   "metadata": {},
   "source": [
    "#### objective z_1 (Eq. (4))"
   ]
  },
  {
   "cell_type": "code",
   "execution_count": 80,
   "id": "08065f60",
   "metadata": {},
   "outputs": [],
   "source": [
    "z_1 = gp.LinExpr()\n",
    "for r in rows:\n",
    "    for s in sides:\n",
    "        for l in locations:\n",
    "            loc_1 = (r,s,l)\n",
    "            for rr in rows:\n",
    "                for ss in sides:\n",
    "                    for ll in locations:\n",
    "                        loc_2 = (rr,ss,ll)\n",
    "                        loc = loc_1 + loc_2\n",
    "                        for k in range(2):\n",
    "                            ### TODO: zero exception\n",
    "                            z_1 += delta[k] * variable_y[loc] * beta[loc+(k,)]\n",
    "                        "
   ]
  },
  {
   "cell_type": "markdown",
   "id": "be4c5b54",
   "metadata": {},
   "source": [
    "#### objective z_2 (Eq. (5))"
   ]
  },
  {
   "cell_type": "code",
   "execution_count": 81,
   "id": "6682ef2f",
   "metadata": {},
   "outputs": [],
   "source": [
    "z_2 = gp.LinExpr()"
   ]
  },
  {
   "cell_type": "code",
   "execution_count": 82,
   "id": "3a5b51a0",
   "metadata": {},
   "outputs": [],
   "source": [
    "for l in locations:\n",
    "    for s in sides:\n",
    "        for r in rows:\n",
    "            ### TODO: zero exception\n",
    "            z_2 += alpha[l] * lambda_gamma[r] * variable_x[(r,s,l)]         "
   ]
  },
  {
   "cell_type": "markdown",
   "id": "f815059c",
   "metadata": {},
   "source": [
    "#### Final Objective (Eq.(3))"
   ]
  },
  {
   "cell_type": "code",
   "execution_count": 83,
   "id": "2fa98991",
   "metadata": {},
   "outputs": [],
   "source": [
    "m.setObjective(w_1 * z_1 + w_2 * z_2, GRB.MINIMIZE)"
   ]
  },
  {
   "cell_type": "markdown",
   "id": "b938eeca",
   "metadata": {},
   "source": [
    "#### Optimize Model 1"
   ]
  },
  {
   "cell_type": "code",
   "execution_count": 84,
   "id": "df75d1a4",
   "metadata": {},
   "outputs": [],
   "source": [
    "m.write('Model1.lp')"
   ]
  },
  {
   "cell_type": "code",
   "execution_count": 85,
   "id": "0493622f",
   "metadata": {},
   "outputs": [
    {
     "name": "stdout",
     "output_type": "stream",
     "text": [
      "Gurobi Optimizer version 9.1.2 build v9.1.2rc0 (win64)\n",
      "Thread count: 8 physical cores, 16 logical processors, using up to 16 threads\n",
      "Optimize a model with 14281 rows, 14520 columns and 42960 nonzeros\n",
      "Model fingerprint: 0x699c6c9f\n",
      "Variable types: 0 continuous, 14520 integer (14520 binary)\n",
      "Coefficient statistics:\n",
      "  Matrix range     [1e+00, 1e+00]\n",
      "  Objective range  [4e-02, 5e-01]\n",
      "  Bounds range     [1e+00, 1e+00]\n",
      "  RHS range        [1e+00, 6e+01]\n",
      "Found heuristic solution: objective 94.7483471\n",
      "Presolve removed 13874 rows and 13994 columns\n",
      "Presolve time: 0.01s\n",
      "Presolved: 407 rows, 526 columns, 1338 nonzeros\n",
      "Variable types: 0 continuous, 526 integer (526 binary)\n",
      "\n",
      "Root relaxation: objective 8.480848e+00, 156 iterations, 0.00 seconds\n",
      "\n",
      "    Nodes    |    Current Node    |     Objective Bounds      |     Work\n",
      " Expl Unexpl |  Obj  Depth IntInf | Incumbent    BestBd   Gap | It/Node Time\n",
      "\n",
      "     0     0    8.48085    0  120   94.74835    8.48085  91.0%     -    0s\n",
      "H    0     0                      65.9855591    8.48085  87.1%     -    0s\n",
      "     0     0   59.83126    0  255   65.98556   59.83126  9.33%     -    0s\n",
      "     0     0   61.55117    0  274   65.98556   61.55117  6.72%     -    0s\n",
      "     0     0   61.77156    0  252   65.98556   61.77156  6.39%     -    0s\n",
      "     0     0   61.79308    0  252   65.98556   61.79308  6.35%     -    0s\n",
      "     0     0   62.33422    0  280   65.98556   62.33422  5.53%     -    0s\n",
      "     0     0   62.33422    0  280   65.98556   62.33422  5.53%     -    0s\n",
      "     0     2   62.33422    0  280   65.98556   62.33422  5.53%     -    0s\n",
      "*   26    30               5      64.4063126   62.79117  2.51%   100    0s\n",
      "H   32    36                      64.2453672   62.80686  2.24%  89.4    0s\n",
      "*   78    64              11      64.1278005   62.80686  2.06%  62.4    0s\n",
      "H   87    72                      64.0420761   62.80686  1.93%  60.7    0s\n",
      "*   90    72               9      64.0297752   62.80686  1.91%  62.1    0s\n",
      "*  121    68              12      63.9906061   62.80686  1.85%  52.1    0s\n",
      "*  123    68              14      63.9591085   62.80686  1.80%  51.5    0s\n",
      "*  127    68              12      63.9476844   62.80686  1.78%  50.5    0s\n",
      "H  139    68                      63.9085153   62.80686  1.72%  49.1    0s\n",
      "*  172    73               9      63.8155499   62.94136  1.37%  47.9    0s\n",
      "H  178    89                      63.7737374   62.94136  1.31%  48.9    0s\n",
      "H  192    89                      63.7327634   62.94136  1.24%  49.0    0s\n",
      "\n",
      "Cutting planes:\n",
      "  Gomory: 33\n",
      "  MIR: 173\n",
      "  Zero half: 54\n",
      "  RLT: 93\n",
      "  BQP: 13\n",
      "\n",
      "Explored 1004 nodes (39110 simplex iterations) in 0.53 seconds\n",
      "Thread count was 16 (of 16 available processors)\n",
      "\n",
      "Solution count 10: 63.7328 63.7737 63.8155 ... 64.1278\n",
      "\n",
      "Optimal solution found (tolerance 1.00e-04)\n",
      "Best objective 6.373276335629e+01, best bound 6.373276335629e+01, gap 0.0000%\n"
     ]
    }
   ],
   "source": [
    "m.optimize()"
   ]
  },
  {
   "cell_type": "code",
   "execution_count": 86,
   "id": "e62dc110",
   "metadata": {},
   "outputs": [
    {
     "data": {
      "image/png": "[encoded data removed]",
      "text/plain": [
       "<Figure size 432x288 with 1 Axes>"
      ]
     },
     "metadata": {
      "needs_background": "light"
     },
     "output_type": "display_data"
    },
    {
     "name": "stdout",
     "output_type": "stream",
     "text": [
      "60  passengers here\n"
     ]
    }
   ],
   "source": [
    "# 미리 정한 승객수 만큼 최적화\n",
    "draw_seat(variable_x)"
   ]
  },
  {
   "cell_type": "markdown",
   "id": "b83152ce",
   "metadata": {},
   "source": [
    "Fig. 4. , Fig. 6. 이랑 같은 세팅이면 그림이 똑같이 나와야 하는데 약간씩 다르게 나오네요....\n",
    "\n",
    "보여주는 특성은 얼추 맞는거 같기는 한데 흠...."
   ]
  },
  {
   "cell_type": "code",
   "execution_count": 107,
   "id": "b2f540c2",
   "metadata": {},
   "outputs": [],
   "source": [
    "ss = 0\n",
    "sd = 0\n",
    "for item in variable_y.items():\n",
    "    ss += int(item[1].X)\n",
    "    sd += 1"
   ]
  },
  {
   "cell_type": "code",
   "execution_count": 108,
   "id": "c0755376",
   "metadata": {},
   "outputs": [
    {
     "name": "stdout",
     "output_type": "stream",
     "text": [
      "13580 14400\n"
     ]
    }
   ],
   "source": [
    "print (ss, sd)"
   ]
  },
  {
   "cell_type": "markdown",
   "id": "b1339b6d",
   "metadata": {},
   "source": [
    "y에 너무 많은 1이 가는거 같습니다"
   ]
  },
  {
   "cell_type": "markdown",
   "id": "564588c2",
   "metadata": {},
   "source": [
    "느낌상 variable_y가 최적화가 덜 되는거 같은데 교수님 찬스 쓰거나 나중에 쫌 더 살펴보겠습니다......"
   ]
  },
  {
   "cell_type": "markdown",
   "id": "835bd80f",
   "metadata": {},
   "source": [
    "### Model 2. Maximizing the (safe) load of passengers"
   ]
  },
  {
   "cell_type": "markdown",
   "id": "f80cb752",
   "metadata": {},
   "source": [
    "* Model 1 에서 Model 2 로 넘어가는 부분이 사실 명확히 이해되지는 않는데 교수님이 보내주신 그것도 시간나면 만들어 볼게요"
   ]
  },
  {
   "cell_type": "markdown",
   "id": "7fcc6e8c",
   "metadata": {},
   "source": [
    "파라미터 에타(Z1), 에타(Z2)의 upper bound"
   ]
  },
  {
   "cell_type": "markdown",
   "id": "3d8c666b",
   "metadata": {},
   "source": [
    "$\\text{Upper Bound of } \\eta_{Z_1}$"
   ]
  },
  {
   "cell_type": "code",
   "execution_count": 89,
   "id": "32ae90e1",
   "metadata": {},
   "outputs": [],
   "source": [
    "eta_z_1 = 0\n",
    "for r in rows:\n",
    "    for s in sides:\n",
    "        for l in locations:\n",
    "            loc_1 = (r,s,l)\n",
    "            for rr in rows:\n",
    "                for ss in sides:\n",
    "                    for ll in locations:\n",
    "                        loc_2 = (rr,ss,ll)\n",
    "                        loc = loc_1 + loc_2\n",
    "                        for k in range(2):\n",
    "                            ### TODO: zero exception\n",
    "                            eta_z_1 += delta[k] * variable_y[loc].X * beta[loc+(k,)]\n",
    "                        "
   ]
  },
  {
   "cell_type": "code",
   "execution_count": 90,
   "id": "b5b8a1ab",
   "metadata": {},
   "outputs": [
    {
     "data": {
      "text/plain": [
       "112.0"
      ]
     },
     "execution_count": 90,
     "metadata": {},
     "output_type": "execute_result"
    }
   ],
   "source": [
    "eta_z_1"
   ]
  },
  {
   "cell_type": "markdown",
   "id": "d617aa4a",
   "metadata": {},
   "source": [
    "$\\text{Upper Bound of } \\eta_{Z_2}$"
   ]
  },
  {
   "cell_type": "code",
   "execution_count": 91,
   "id": "63706e1e",
   "metadata": {},
   "outputs": [],
   "source": [
    "eta_z_2 = 0\n",
    "for l in locations:\n",
    "    for s in sides:\n",
    "        for r in rows:\n",
    "            ### TODO: zero exception\n",
    "            eta_z_2 += alpha[l] * lambda_gamma[r] * variable_x[(r,s,l)].X\n",
    "            "
   ]
  },
  {
   "cell_type": "code",
   "execution_count": 92,
   "id": "901a22f5",
   "metadata": {},
   "outputs": [
    {
     "data": {
      "text/plain": [
       "15.465526712572894"
      ]
     },
     "execution_count": 92,
     "metadata": {},
     "output_type": "execute_result"
    }
   ],
   "source": [
    "eta_z_2"
   ]
  },
  {
   "cell_type": "markdown",
   "id": "7bb10340",
   "metadata": {},
   "source": [
    "---"
   ]
  },
  {
   "cell_type": "markdown",
   "id": "ffb3e3b3",
   "metadata": {},
   "source": [
    "#### Setting the parameter $\\eta_Z$"
   ]
  },
  {
   "cell_type": "code",
   "execution_count": 93,
   "id": "7cdf25fa",
   "metadata": {},
   "outputs": [],
   "source": [
    "# Example\n",
    "eta_z_1 = 20\n",
    "eta_z_2 = 5"
   ]
  },
  {
   "cell_type": "code",
   "execution_count": 94,
   "id": "ed625dcd",
   "metadata": {},
   "outputs": [],
   "source": [
    "m2 = gp.Model('Model2')"
   ]
  },
  {
   "cell_type": "markdown",
   "id": "c796b911",
   "metadata": {},
   "source": [
    "#### Variables"
   ]
  },
  {
   "cell_type": "code",
   "execution_count": 95,
   "id": "3476f14b",
   "metadata": {},
   "outputs": [],
   "source": [
    "m2_variable_x = m2.addVars(x_combinations, name='variable_X',vtype=GRB.BINARY)"
   ]
  },
  {
   "cell_type": "code",
   "execution_count": 96,
   "id": "6cd333dd",
   "metadata": {},
   "outputs": [],
   "source": [
    "m2_variable_y = m2.addVars(y_combinations, name='variable_Y',vtype=GRB.BINARY)"
   ]
  },
  {
   "cell_type": "markdown",
   "id": "4b4be579",
   "metadata": {},
   "source": [
    "#### Constraints 1 (Eq. (9))"
   ]
  },
  {
   "cell_type": "code",
   "execution_count": 97,
   "id": "9d27baf6",
   "metadata": {},
   "outputs": [],
   "source": [
    "constr_1 = gp.LinExpr()\n",
    "for r in rows:\n",
    "    for s in sides:\n",
    "        for l in locations:\n",
    "            loc_1 = (r,s,l)\n",
    "            for rr in rows:\n",
    "                for ss in sides:\n",
    "                    for ll in locations:\n",
    "                        loc_2 = (rr,ss,ll)\n",
    "                        loc = loc_1 + loc_2\n",
    "                        for k in range(2):\n",
    "                            ### TODO: zero exception\n",
    "                            constr_1 += delta[k] * m2_variable_y[loc] * beta[loc+(k,)]\n",
    "                        "
   ]
  },
  {
   "cell_type": "markdown",
   "id": "2c38c847",
   "metadata": {},
   "source": [
    "#### Constraints 2 (Eq. (10))"
   ]
  },
  {
   "cell_type": "code",
   "execution_count": 98,
   "id": "f7ea39c6",
   "metadata": {},
   "outputs": [],
   "source": [
    "constr_2 = gp.LinExpr()"
   ]
  },
  {
   "cell_type": "code",
   "execution_count": 99,
   "id": "084baaf8",
   "metadata": {},
   "outputs": [],
   "source": [
    "for l in locations:\n",
    "    for s in sides:\n",
    "        for r in rows:\n",
    "            ### TODO: zero exception\n",
    "            constr_2 += alpha[l] * lambda_gamma[r] * m2_variable_x[(r,s,l)]\n",
    "            "
   ]
  },
  {
   "cell_type": "code",
   "execution_count": 100,
   "id": "f4a51b48",
   "metadata": {},
   "outputs": [
    {
     "data": {
      "text/plain": [
       "<gurobi.Constr *Awaiting Model Update*>"
      ]
     },
     "execution_count": 100,
     "metadata": {},
     "output_type": "execute_result"
    }
   ],
   "source": [
    "m2.addConstr(constr_1 <= eta_z_1)"
   ]
  },
  {
   "cell_type": "code",
   "execution_count": 101,
   "id": "5fe7512b",
   "metadata": {},
   "outputs": [
    {
     "data": {
      "text/plain": [
       "<gurobi.Constr *Awaiting Model Update*>"
      ]
     },
     "execution_count": 101,
     "metadata": {},
     "output_type": "execute_result"
    }
   ],
   "source": [
    "m2.addConstr(constr_2 <= eta_z_2)"
   ]
  },
  {
   "cell_type": "markdown",
   "id": "f94b82c5",
   "metadata": {},
   "source": [
    "#### Constraints 3 (Eq. (7))"
   ]
  },
  {
   "cell_type": "code",
   "execution_count": 102,
   "id": "df15dbdd",
   "metadata": {},
   "outputs": [],
   "source": [
    "for r in rows:\n",
    "    for s in sides:\n",
    "        for l in locations:\n",
    "            loc_1 = (r,s,l)\n",
    "            for rr in rows:\n",
    "                for ss in sides:\n",
    "                    for ll in locations:\n",
    "                        loc_2 = (rr,ss,ll)\n",
    "                        if loc_1 == loc_2:\n",
    "                            pass\n",
    "                        else:\n",
    "                            m2.addConstr(m2_variable_x[loc_1] + m2_variable_x[loc_2] - 1 <= m2_variable_y[(loc_1+loc_2)])"
   ]
  },
  {
   "cell_type": "markdown",
   "id": "77181e5e",
   "metadata": {},
   "source": [
    "#### Objective (Eq. (8))"
   ]
  },
  {
   "cell_type": "code",
   "execution_count": 103,
   "id": "6242b880",
   "metadata": {},
   "outputs": [],
   "source": [
    "m2.setObjective(m2_variable_x.sum(), GRB.MAXIMIZE)"
   ]
  },
  {
   "cell_type": "markdown",
   "id": "181744e8",
   "metadata": {},
   "source": [
    "#### Optimize Model 2"
   ]
  },
  {
   "cell_type": "code",
   "execution_count": 104,
   "id": "1aebb9e4",
   "metadata": {},
   "outputs": [],
   "source": [
    "m2.write('Model2.lp')"
   ]
  },
  {
   "cell_type": "code",
   "execution_count": 105,
   "id": "cc2d6744",
   "metadata": {},
   "outputs": [
    {
     "name": "stdout",
     "output_type": "stream",
     "text": [
      "Gurobi Optimizer version 9.1.2 build v9.1.2rc0 (win64)\n",
      "Thread count: 8 physical cores, 16 logical processors, using up to 16 threads\n",
      "Optimize a model with 14282 rows, 14520 columns and 43732 nonzeros\n",
      "Model fingerprint: 0x4778b4e3\n",
      "Variable types: 0 continuous, 14520 integer (14520 binary)\n",
      "Coefficient statistics:\n",
      "  Matrix range     [8e-02, 1e+00]\n",
      "  Objective range  [1e+00, 1e+00]\n",
      "  Bounds range     [1e+00, 1e+00]\n",
      "  RHS range        [1e+00, 2e+01]\n",
      "Found heuristic solution: objective 1.0000000\n",
      "Found heuristic solution: objective 26.0000000\n",
      "Presolve removed 13468 rows and 13588 columns\n",
      "Presolve time: 0.02s\n",
      "Presolved: 814 rows, 932 columns, 3328 nonzeros\n",
      "Variable types: 0 continuous, 932 integer (932 binary)\n",
      "\n",
      "Root relaxation: objective 4.784673e+01, 395 iterations, 0.00 seconds\n",
      "\n",
      "    Nodes    |    Current Node    |     Objective Bounds      |     Work\n",
      " Expl Unexpl |  Obj  Depth IntInf | Incumbent    BestBd   Gap | It/Node Time\n",
      "\n",
      "     0     0   47.84673    0  116   26.00000   47.84673  84.0%     -    0s\n",
      "H    0     0                      28.0000000   47.84673  70.9%     -    0s\n",
      "H    0     0                      31.0000000   47.84673  54.3%     -    0s\n",
      "     0     0   42.39563    0  143   31.00000   42.39563  36.8%     -    0s\n",
      "H    0     0                      32.0000000   42.39563  32.5%     -    0s\n",
      "     0     0   39.92074    0  133   32.00000   39.92074  24.8%     -    0s\n",
      "     0     0   39.92074    0  133   32.00000   39.92074  24.8%     -    0s\n",
      "     0     0   39.92074    0  135   32.00000   39.92074  24.8%     -    0s\n",
      "H    0     0                      33.0000000   39.79374  20.6%     -    0s\n",
      "     0     0   39.49542    0  159   33.00000   39.49542  19.7%     -    0s\n",
      "     0     0   39.35316    0  148   33.00000   39.35316  19.3%     -    0s\n",
      "     0     0   39.32427    0  154   33.00000   39.32427  19.2%     -    0s\n",
      "     0     0   39.31868    0  154   33.00000   39.31868  19.1%     -    0s\n",
      "H    0     0                      35.0000000   39.31868  12.3%     -    0s\n",
      "     0     0   38.32241    0  160   35.00000   38.32241  9.49%     -    0s\n",
      "     0     0   38.08568    0  166   35.00000   38.08568  8.82%     -    0s\n",
      "     0     0   37.98983    0  168   35.00000   37.98983  8.54%     -    0s\n",
      "     0     0   37.97901    0  172   35.00000   37.97901  8.51%     -    0s\n",
      "     0     0   36.82250    0  148   35.00000   36.82250  5.21%     -    0s\n",
      "     0     0   36.76060    0  131   35.00000   36.76060  5.03%     -    0s\n",
      "     0     0   36.74472    0  134   35.00000   36.74472  4.98%     -    0s\n",
      "     0     0   36.72905    0  156   35.00000   36.72905  4.94%     -    0s\n",
      "     0     0   36.72883    0  156   35.00000   36.72883  4.94%     -    0s\n",
      "     0     0   36.51054    0  162   35.00000   36.51054  4.32%     -    0s\n",
      "H    0     0                      36.0000000   36.51054  1.42%     -    0s\n",
      "     0     0   36.51054    0  162   36.00000   36.51054  1.42%     -    0s\n",
      "\n",
      "Cutting planes:\n",
      "  Gomory: 18\n",
      "  MIR: 103\n",
      "  Zero half: 47\n",
      "  RLT: 97\n",
      "  BQP: 31\n",
      "\n",
      "Explored 1 nodes (2570 simplex iterations) in 0.28 seconds\n",
      "Thread count was 16 (of 16 available processors)\n",
      "\n",
      "Solution count 8: 36 35 33 ... 1\n",
      "\n",
      "Optimal solution found (tolerance 1.00e-04)\n",
      "Best objective 3.600000000000e+01, best bound 3.600000000000e+01, gap 0.0000%\n"
     ]
    }
   ],
   "source": [
    "m2.optimize()"
   ]
  },
  {
   "cell_type": "code",
   "execution_count": 106,
   "id": "f6755c76",
   "metadata": {},
   "outputs": [
    {
     "data": {
      "image/png": "[encoded data removed]",
      "text/plain": [
       "<Figure size 432x288 with 1 Axes>"
      ]
     },
     "metadata": {
      "needs_background": "light"
     },
     "output_type": "display_data"
    },
    {
     "name": "stdout",
     "output_type": "stream",
     "text": [
      "36  passengers here\n"
     ]
    }
   ],
   "source": [
    "draw_seat(m2_variable_x)"
   ]
  },
  {
   "cell_type": "markdown",
   "id": "4446179c",
   "metadata": {},
   "source": [
    "이게 맞는 건가??"
   ]
  }
 ],
 "metadata": {
  "kernelspec": {
   "display_name": "Python 3",
   "language": "python",
   "name": "python3"
  },
  "language_info": {
   "codemirror_mode": {
    "name": "ipython",
    "version": 3
   },
   "file_extension": ".py",
   "mimetype": "text/x-python",
   "name": "python",
   "nbconvert_exporter": "python",
   "pygments_lexer": "ipython3",
   "version": "3.8.8"
  },
  "toc": {
   "base_numbering": 1,
   "nav_menu": {},
   "number_sections": true,
   "sideBar": true,
   "skip_h1_title": true,
   "title_cell": "Table of Contents",
   "title_sidebar": "Contents",
   "toc_cell": true,
   "toc_position": {},
   "toc_section_display": true,
   "toc_window_display": false
  }
 },
 "nbformat": 4,
 "nbformat_minor": 5
}
