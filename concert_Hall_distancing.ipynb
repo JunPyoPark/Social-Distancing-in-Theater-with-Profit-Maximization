{
 "cells": [
  {
   "cell_type": "markdown",
   "id": "63f70462",
   "metadata": {
    "toc": true
   },
   "source": [
    "<h1>Table of Contents<span class=\"tocSkip\"></span></h1>\n",
    "<div class=\"toc\"><ul class=\"toc-item\"><li><span><a href=\"#그림-그리기-준비\" data-toc-modified-id=\"그림-그리기-준비-1\"><span class=\"toc-item-num\">1&nbsp;&nbsp;</span>그림 그리기 준비</a></span><ul class=\"toc-item\"><li><span><a href=\"#변수-세팅\" data-toc-modified-id=\"변수-세팅-1.1\"><span class=\"toc-item-num\">1.1&nbsp;&nbsp;</span>변수 세팅</a></span></li><li><span><a href=\"#좌석,-통로-사이즈-세팅\" data-toc-modified-id=\"좌석,-통로-사이즈-세팅-1.2\"><span class=\"toc-item-num\">1.2&nbsp;&nbsp;</span>좌석, 통로 사이즈 세팅</a></span></li><li><span><a href=\"#좌석-배치를-좌표계로-옮기기\" data-toc-modified-id=\"좌석-배치를-좌표계로-옮기기-1.3\"><span class=\"toc-item-num\">1.3&nbsp;&nbsp;</span>좌석 배치를 좌표계로 옮기기</a></span></li></ul></li><li><span><a href=\"#Beta-계산\" data-toc-modified-id=\"Beta-계산-2\"><span class=\"toc-item-num\">2&nbsp;&nbsp;</span>Beta 계산</a></span></li><li><span><a href=\"#parameter-setting\" data-toc-modified-id=\"parameter-setting-3\"><span class=\"toc-item-num\">3&nbsp;&nbsp;</span>parameter setting</a></span><ul class=\"toc-item\"><li><span><a href=\"#$\\lambda_\\gamma$-:-row-배치에-영향을-주는-파라미터\" data-toc-modified-id=\"$\\lambda_\\gamma$-:-row-배치에-영향을-주는-파라미터-3.1\"><span class=\"toc-item-num\">3.1&nbsp;&nbsp;</span>$\\lambda_\\gamma$ : row 배치에 영향을 주는 파라미터</a></span></li><li><span><a href=\"#alpha:-index-위치에-따른-패널티-부여\" data-toc-modified-id=\"alpha:-index-위치에-따른-패널티-부여-3.2\"><span class=\"toc-item-num\">3.2&nbsp;&nbsp;</span>alpha: index 위치에 따른 패널티 부여</a></span></li></ul></li><li><span><a href=\"#GUROBI-Solver\" data-toc-modified-id=\"GUROBI-Solver-4\"><span class=\"toc-item-num\">4&nbsp;&nbsp;</span>GUROBI Solver</a></span><ul class=\"toc-item\"><li><span><a href=\"#Formulation.-Normalized-Weighting-Method-(Cohon-2013,-Ehrgott-2006)\" data-toc-modified-id=\"Formulation.-Normalized-Weighting-Method-(Cohon-2013,-Ehrgott-2006)-4.1\"><span class=\"toc-item-num\">4.1&nbsp;&nbsp;</span>Formulation. Normalized Weighting Method (Cohon 2013, Ehrgott 2006)</a></span><ul class=\"toc-item\"><li><span><a href=\"#Find-$M$-and-$V$\" data-toc-modified-id=\"Find-$M$-and-$V$-4.1.1\"><span class=\"toc-item-num\">4.1.1&nbsp;&nbsp;</span>Find $M$ and $V$</a></span></li><li><span><a href=\"#Solve-Bi-objective-model\" data-toc-modified-id=\"Solve-Bi-objective-model-4.1.2\"><span class=\"toc-item-num\">4.1.2&nbsp;&nbsp;</span>Solve Bi objective model</a></span></li></ul></li></ul></li><li><span><a href=\"#Baseline-Setting-(1자리-건너-1자리-띄우기)\" data-toc-modified-id=\"Baseline-Setting-(1자리-건너-1자리-띄우기)-5\"><span class=\"toc-item-num\">5&nbsp;&nbsp;</span>Baseline Setting (1자리 건너 1자리 띄우기)</a></span></li><li><span><a href=\"#Parameter-Searching\" data-toc-modified-id=\"Parameter-Searching-6\"><span class=\"toc-item-num\">6&nbsp;&nbsp;</span>Parameter Searching</a></span></li><li><span><a href=\"#Results-Analysis\" data-toc-modified-id=\"Results-Analysis-7\"><span class=\"toc-item-num\">7&nbsp;&nbsp;</span>Results Analysis</a></span></li></ul></div>"
   ]
  },
  {
   "cell_type": "markdown",
   "id": "028a196c",
   "metadata": {},
   "source": [
    "# Social distancing in concert hall seat assignments"
   ]
  },
  {
   "cell_type": "markdown",
   "id": "d35c3177",
   "metadata": {},
   "source": [
    "<div style=\"float: right\">Linear Programming Project</div> <br>\n",
    "<div style=\"float: right\">Coded by JunPyo Park</div>"
   ]
  },
  {
   "cell_type": "code",
   "execution_count": 1,
   "id": "6c69fb91",
   "metadata": {},
   "outputs": [],
   "source": [
    "# 50% 정확히 채우기\n",
    "basic_path = 'eq_half' # foler path"
   ]
  },
  {
   "cell_type": "code",
   "execution_count": 2,
   "id": "67c668e1",
   "metadata": {},
   "outputs": [],
   "source": [
    "from PIL import Image, ImageDraw\n",
    "import os\n",
    "import matplotlib.pyplot as plt\n",
    "import numpy as np\n",
    "import pandas as pd"
   ]
  },
  {
   "cell_type": "code",
   "execution_count": 3,
   "id": "ab777f1a",
   "metadata": {},
   "outputs": [],
   "source": [
    "def makedirs(save_path):\n",
    "    try:\n",
    "        os.makedirs(save_path)\n",
    "        return True\n",
    "    except:\n",
    "        return False"
   ]
  },
  {
   "cell_type": "markdown",
   "id": "967f47e3",
   "metadata": {},
   "source": [
    "Slack bot 과 연결 (토큰 정보는 개인정보라 삭제하였습니다)"
   ]
  },
  {
   "cell_type": "code",
   "execution_count": 14,
   "id": "faa09834",
   "metadata": {},
   "outputs": [],
   "source": [
    "import requests\n",
    " \n",
    "def post_message(token, channel, text): # send slack message\n",
    "    response = requests.post(\"https://slack.com/api/chat.postMessage\",\n",
    "        headers={\"Authorization\": \"Bearer \"+token},\n",
    "        data={\"channel\": channel,\"text\": text}\n",
    "    )\n",
    "    print(response)\n",
    "    \n",
    "# myToken = \"Your tocken\""
   ]
  },
  {
   "cell_type": "markdown",
   "id": "87958013",
   "metadata": {},
   "source": [
    "![](https://trello-attachments.s3.amazonaws.com/5b29ec749cfb0d90ada47d03/60756e3587120e556e094895/d4ccb688f9cc2733a5292b658391aa9f/image.png)"
   ]
  },
  {
   "cell_type": "markdown",
   "id": "99f9a77e",
   "metadata": {},
   "source": [
    "## 그림 그리기 준비"
   ]
  },
  {
   "cell_type": "code",
   "execution_count": 5,
   "id": "915dccb1",
   "metadata": {},
   "outputs": [],
   "source": [
    "class color_scheme():\n",
    "    def __init__(self):\n",
    "        self.black = (0,0,0)\n",
    "        self.white = (255,255,255)\n",
    "        self.safe = (164,195,144)\n",
    "        self.danger = (253, 32, 28)\n",
    "        self.soso = (251, 248,16)"
   ]
  },
  {
   "cell_type": "markdown",
   "id": "117ec683",
   "metadata": {},
   "source": [
    "### 변수 세팅"
   ]
  },
  {
   "cell_type": "code",
   "execution_count": 6,
   "id": "5c4fba98",
   "metadata": {},
   "outputs": [],
   "source": [
    "rows = 22 # row 1~22\n",
    "blocks = 5 # block A,B,C,D,E\n",
    "idx = 11 # index 1~11"
   ]
  },
  {
   "cell_type": "markdown",
   "id": "b9666153",
   "metadata": {},
   "source": [
    "총 좌석수"
   ]
  },
  {
   "cell_type": "code",
   "execution_count": 15,
   "id": "901ba6b2",
   "metadata": {},
   "outputs": [],
   "source": [
    "w_vip = np.ones((rows, blocks, idx)) # r, b, i\n",
    "\n",
    "# A block\n",
    "w_vip[0:13, 0, -4:] = 15/13\n",
    "\n",
    "# B,C,D block 1~15 열\n",
    "w_vip[0:15,1:4,:] = 15/13\n",
    "\n",
    "# E block\n",
    "w_vip[0:13, 4, 0:4] = 15/13\n",
    "\n",
    "#15/13 R석 대비 VIP석의 가격 비율"
   ]
  },
  {
   "cell_type": "markdown",
   "id": "7b7fc65a",
   "metadata": {},
   "source": [
    "### 좌석, 통로 사이즈 세팅"
   ]
  },
  {
   "cell_type": "markdown",
   "id": "fda07e9b",
   "metadata": {},
   "source": [
    "[Size Reference](https://korean.alibaba.com/product-detail/2018-new-arrival-used-movie-theater-seats-auditorium-chair-60397363519.html)"
   ]
  },
  {
   "cell_type": "markdown",
   "id": "133177ae",
   "metadata": {},
   "source": [
    "![](https://trello-attachments.s3.amazonaws.com/5b29ec749cfb0d90ada47d03/60a2a3f20169823a1998ab25/cfef6fde21f743c5abfa0d977b8edea4/image.png)"
   ]
  },
  {
   "cell_type": "code",
   "execution_count": 16,
   "id": "81eecec4",
   "metadata": {},
   "outputs": [],
   "source": [
    "seat_width = 58 * 0.393701 # cm to inches\n",
    "seat_pitch = 90 * 0.393701\n",
    "seat_height = 55 * 0.393701\n",
    "vertical_aisle_width = seat_width * 2\n",
    "horizontal_aisle_width = seat_pitch * 1.5"
   ]
  },
  {
   "cell_type": "code",
   "execution_count": 17,
   "id": "0487efce",
   "metadata": {},
   "outputs": [],
   "source": [
    "map_width = int(11*seat_width * 5 + 4 * vertical_aisle_width)\n",
    "map_height = int(22*seat_pitch + horizontal_aisle_width)"
   ]
  },
  {
   "cell_type": "code",
   "execution_count": 18,
   "id": "f80d2014",
   "metadata": {},
   "outputs": [],
   "source": [
    "color = color_scheme()\n",
    "map_size = np.array([map_width, map_height])\n",
    "\n",
    "im = Image.new('RGB', tuple(map_size), color.white)\n",
    "draw = ImageDraw.Draw(im)"
   ]
  },
  {
   "cell_type": "markdown",
   "id": "a06141d5",
   "metadata": {},
   "source": [
    "### 좌석 배치를 좌표계로 옮기기"
   ]
  },
  {
   "cell_type": "code",
   "execution_count": 19,
   "id": "f39c54e8",
   "metadata": {},
   "outputs": [],
   "source": [
    "x=0\n",
    "y=0\n",
    "seat_loc = np.zeros((rows,blocks,idx,2))\n",
    "for r in range(rows): \n",
    "    for b in range(blocks): \n",
    "        for i in range(idx): \n",
    "            if w_vip[r,b,i] > 1: # vip 좌석\n",
    "                seat_color = color.safe\n",
    "            else:\n",
    "                seat_color = color.white\n",
    "            \n",
    "            draw.rectangle((x, y, x+seat_width, y+seat_height), fill=seat_color, outline=color.black)\n",
    "            \n",
    "            # save location of center\n",
    "            seat_loc[r][b][i][0] = x+seat_width/2\n",
    "            seat_loc[r][b][i][1] = y+seat_height/2 \n",
    "            x += seat_width\n",
    "            \n",
    "        x += vertical_aisle_width\n",
    "    x = 0\n",
    "    \n",
    "    y += seat_pitch\n",
    "    if r == 12:\n",
    "        y += horizontal_aisle_width\n",
    "    "
   ]
  },
  {
   "cell_type": "code",
   "execution_count": 20,
   "id": "12e4a04e",
   "metadata": {},
   "outputs": [
    {
     "data": {
      "image/png": "[encoded data removed]",
      "text/plain": [
       "<Figure size 432x288 with 1 Axes>"
      ]
     },
     "metadata": {
      "needs_background": "light"
     },
     "output_type": "display_data"
    }
   ],
   "source": [
    "numpy_images = np.array(im)\n",
    "# im.save('data/dst/pillow_imagedraw.jpg', quality=95)\n",
    "plt.imshow(numpy_images)\n",
    "plt.show()"
   ]
  },
  {
   "cell_type": "code",
   "execution_count": 21,
   "id": "5a94c6c3",
   "metadata": {},
   "outputs": [],
   "source": [
    "def draw_seat(variable_x, save_path, profit):\n",
    "    count = 0\n",
    "\n",
    "    for r in range(rows): \n",
    "        for b in range(blocks): \n",
    "            for i in range(idx): \n",
    "                \n",
    "                if save_path:\n",
    "                    seat = variable_x[r,b,i].X\n",
    "                else:\n",
    "                    seat = variable_x[r,b,i]\n",
    "                if seat > 0.9: # 소수점으로 나오는거 고려\n",
    "                    fill_color = color.soso\n",
    "                    count+=1\n",
    "                else:\n",
    "                    fill_color = color.white\n",
    "\n",
    "                x = seat_loc[r][b][i][0] - seat_width/2\n",
    "                y = seat_loc[r][b][i][1] - seat_height/2 \n",
    "                draw.rectangle((x, y, x+seat_width, y+seat_height), fill=fill_color, outline=color.black)\n",
    "\n",
    "    \n",
    "    if save_path: # save_path is Not None\n",
    "        print(save_path+'.jpg') \n",
    "        numpy_images = np.array(im)\n",
    "        plt.title(str(count) + ' audiences and '+str(profit) + ' profits')\n",
    "        plt.imshow(numpy_images)\n",
    "        try:\n",
    "            plt.savefig(save_path + '/profit=%s.jpg' % str(profit))\n",
    "            plt.show()\n",
    "            im.save(save_path+'/img.jpg', quality=95) # save the allocation result\n",
    "        except:\n",
    "            pass\n",
    "\n",
    "        print(count, ' audiences here')\n",
    "    else: # save_path is None, only show the results\n",
    "        numpy_images = np.array(im)\n",
    "        plt.imshow(numpy_images)\n",
    "        plt.show()"
   ]
  },
  {
   "cell_type": "markdown",
   "id": "47272f65",
   "metadata": {},
   "source": [
    "## Beta 계산"
   ]
  },
  {
   "cell_type": "code",
   "execution_count": 22,
   "id": "3df43fc5",
   "metadata": {},
   "outputs": [],
   "source": [
    "def dist(seat_1, seat_2):\n",
    "    # returns the euclidean distance between two seats\n",
    "    return np.sqrt(((seat_1-seat_2)**2).sum())"
   ]
  },
  {
   "cell_type": "code",
   "execution_count": 23,
   "id": "a082976f",
   "metadata": {},
   "outputs": [],
   "source": [
    "beta=np.zeros((rows,blocks,idx,rows,blocks,idx)) # r,s,l,rr,ss,ll\n",
    "# beta={}"
   ]
  },
  {
   "cell_type": "code",
   "execution_count": 24,
   "id": "f945d8a4",
   "metadata": {},
   "outputs": [],
   "source": [
    "bounds = np.array([1e-10, 46]) # 46 inches"
   ]
  },
  {
   "cell_type": "code",
   "execution_count": 25,
   "id": "7100c34b",
   "metadata": {
    "scrolled": true
   },
   "outputs": [],
   "source": [
    "for r in range(rows): \n",
    "    for b in range(blocks): \n",
    "        for i in range(idx): \n",
    "            seat_1 = seat_loc[r][b][i]\n",
    "            for rr in range(rows): \n",
    "                for bb in range(blocks): \n",
    "                    for ii in range(idx): \n",
    "                        seat_2 = seat_loc[rr][bb][ii]\n",
    "                        euc_dist = dist(seat_1, seat_2)\n",
    "                        lower_bound = bounds[0] # lb\n",
    "                        upper_bound = bounds[1] # ub\n",
    "                        x = (r,b,i,rr,bb,ii)\n",
    "                        if euc_dist > lower_bound and euc_dist <= upper_bound:\n",
    "                            beta[x] = 1\n",
    "                        else:\n",
    "                            beta[x] = 0         "
   ]
  },
  {
   "cell_type": "code",
   "execution_count": 26,
   "id": "0500421e",
   "metadata": {},
   "outputs": [],
   "source": [
    "seat_1 = seat_loc[0,0,0]\n",
    "seat_2 = seat_loc[0,0,2]"
   ]
  },
  {
   "cell_type": "code",
   "execution_count": 27,
   "id": "d95ef039",
   "metadata": {},
   "outputs": [
    {
     "data": {
      "text/plain": [
       "45.669316"
      ]
     },
     "execution_count": 27,
     "metadata": {},
     "output_type": "execute_result"
    }
   ],
   "source": [
    "dist(seat_1, seat_2)"
   ]
  },
  {
   "cell_type": "code",
   "execution_count": 28,
   "id": "f147a8cf",
   "metadata": {},
   "outputs": [
    {
     "data": {
      "text/plain": [
       "1.0"
      ]
     },
     "execution_count": 28,
     "metadata": {},
     "output_type": "execute_result"
    }
   ],
   "source": [
    "beta[0,0,0,0,0,2]"
   ]
  },
  {
   "cell_type": "markdown",
   "id": "b853f591",
   "metadata": {},
   "source": [
    "## parameter setting"
   ]
  },
  {
   "cell_type": "markdown",
   "id": "3a4b4b56",
   "metadata": {},
   "source": [
    "### $\\lambda_\\gamma$ : row 배치에 영향을 주는 파라미터"
   ]
  },
  {
   "cell_type": "code",
   "execution_count": 29,
   "id": "26caf6fa",
   "metadata": {},
   "outputs": [],
   "source": [
    "def get_lambda(gamma=1):\n",
    "    lambda_gamma = np.array(\n",
    "        [1/(14-r)**(1/gamma) for r in range(14)]+\n",
    "        [1/(r-13)**(1/gamma) for r in range(14,19)]+\n",
    "        [1/(22-r)**(1/gamma) for r in range(19,22)]\n",
    "    )\n",
    "    return lambda_gamma"
   ]
  },
  {
   "cell_type": "markdown",
   "id": "9f02d5d3",
   "metadata": {},
   "source": [
    "### alpha: index 위치에 따른 패널티 부여"
   ]
  },
  {
   "cell_type": "markdown",
   "id": "d84e3c52",
   "metadata": {},
   "source": [
    "Vertical Aisle의 위치에 따라 다르게 가중치 생성"
   ]
  },
  {
   "cell_type": "code",
   "execution_count": 30,
   "id": "9ccbaad8",
   "metadata": {},
   "outputs": [
    {
     "data": {
      "text/plain": [
       "[0.09090909090909091,\n",
       " 0.1,\n",
       " 0.1111111111111111,\n",
       " 0.125,\n",
       " 0.14285714285714285,\n",
       " 0.16666666666666666,\n",
       " 0.2,\n",
       " 0.25,\n",
       " 0.3333333333333333,\n",
       " 0.5,\n",
       " 1.0]"
      ]
     },
     "execution_count": 30,
     "metadata": {},
     "output_type": "execute_result"
    }
   ],
   "source": [
    "# 통로쪽으로 가까워 질수록 증가\n",
    "alpha_A = [1 / (11-x) for x in range(11)]\n",
    "alpha_A"
   ]
  },
  {
   "cell_type": "code",
   "execution_count": 31,
   "id": "290fa750",
   "metadata": {},
   "outputs": [
    {
     "data": {
      "text/plain": [
       "[1.0,\n",
       " 0.5,\n",
       " 0.3333333333333333,\n",
       " 0.25,\n",
       " 0.2,\n",
       " 0.16666666666666666,\n",
       " 0.2,\n",
       " 0.25,\n",
       " 0.3333333333333333,\n",
       " 0.5,\n",
       " 1.0]"
      ]
     },
     "execution_count": 31,
     "metadata": {},
     "output_type": "execute_result"
    }
   ],
   "source": [
    "# B, C, D\n",
    "alpha_mid = [1/x for x in range(1,7)] + [1/(11-x) for x in range(6,11)]\n",
    "alpha_mid"
   ]
  },
  {
   "cell_type": "code",
   "execution_count": 32,
   "id": "97eb998c",
   "metadata": {},
   "outputs": [
    {
     "data": {
      "text/plain": [
       "[1.0,\n",
       " 0.5,\n",
       " 0.3333333333333333,\n",
       " 0.25,\n",
       " 0.2,\n",
       " 0.16666666666666666,\n",
       " 0.14285714285714285,\n",
       " 0.125,\n",
       " 0.1111111111111111,\n",
       " 0.1,\n",
       " 0.09090909090909091]"
      ]
     },
     "execution_count": 32,
     "metadata": {},
     "output_type": "execute_result"
    }
   ],
   "source": [
    "# 통로에서 멀어 질수록 감소\n",
    "alpha_E = [1/(1+x) for x in range(11)]\n",
    "alpha_E"
   ]
  },
  {
   "cell_type": "code",
   "execution_count": 33,
   "id": "2665045e",
   "metadata": {},
   "outputs": [],
   "source": [
    "alpha = np.array([alpha_A] + [alpha_mid] * 3 + [alpha_E])"
   ]
  },
  {
   "cell_type": "markdown",
   "id": "17036ffe",
   "metadata": {},
   "source": [
    "## GUROBI Solver"
   ]
  },
  {
   "cell_type": "markdown",
   "id": "681a2eaf",
   "metadata": {},
   "source": [
    "### Formulation. Normalized Weighting Method (Cohon 2013, Ehrgott 2006)"
   ]
  },
  {
   "cell_type": "markdown",
   "id": "28c076da",
   "metadata": {},
   "source": [
    "The proposed model is a bi-objective model, where the purpose is to identify trade-off solutions using multi-criteria optimization techniques. One popular technique is to use the normalized weighting method where each of the objectives is normalized by their own maximum magnitude and then the normalized terms are consolidated into one using non-negative weights that sum to one (Cohon 2013, Ehrgott 2006); in our model, we first find the maximum values, 𝛼 and 𝛽, for each of the two objectives individually, then normalize them by dividing the objectives by 𝛼 and 𝛽, respectively, and finally sum up all weighted normalized terms as one dimensionless objective using weights 𝑤 and 1−𝑤, for 𝑤 $\\in [0,1]$."
   ]
  },
  {
   "cell_type": "markdown",
   "id": "db92cc31",
   "metadata": {},
   "source": [
    "$$ Z_{\\text{location risk}} = \\sum{\\alpha\\lambda_{\\gamma}X}$$"
   ]
  },
  {
   "cell_type": "markdown",
   "id": "86214872",
   "metadata": {},
   "source": [
    "$$ Z_{\\text{distancing risk}} = \\sum\\sum{\\delta_{k}\\beta Y} $$"
   ]
  },
  {
   "cell_type": "markdown",
   "id": "5d380450",
   "metadata": {},
   "source": [
    "$$ Z_{\\text{Risk Exposure}} = Z_{\\text{location risk}} + Z_{\\text{distancing risk}}$$"
   ]
  },
  {
   "cell_type": "markdown",
   "id": "14c856ac",
   "metadata": {},
   "source": [
    "---"
   ]
  },
  {
   "cell_type": "markdown",
   "id": "8ef22e2e",
   "metadata": {},
   "source": [
    "$$ Z_{\\text{profit}} = \\sum{w_{\\text{vip}}X} $$  "
   ]
  },
  {
   "cell_type": "markdown",
   "id": "8be4648b",
   "metadata": {},
   "source": [
    "$$ Z_{\\text{Risk Exposure}}=\\sum{\\alpha\\lambda_{\\gamma}X} + \\sum\\sum{\\delta_{k}\\beta Y}$$"
   ]
  },
  {
   "cell_type": "markdown",
   "id": "7dee5467",
   "metadata": {},
   "source": [
    "$$ \\text{Maximize } \\frac{w}{V} Z_{\\text{profit}} -  \\frac{1-w}{M} Z_{\\text{Risk Exposure}}$$\n",
    "\n",
    "$$ \\text{ where } w \\in [0,1]$$\n",
    "\n",
    "$$ V = max \\, Z_{\\text{profit}} \\,\\, \\text{ and } \\,\\, M = max \\, Z_{\\text{Risk Exposure}}$$"
   ]
  },
  {
   "cell_type": "code",
   "execution_count": 34,
   "id": "a3c90a10",
   "metadata": {},
   "outputs": [],
   "source": [
    "import gurobipy as gp\n",
    "from gurobipy import GRB"
   ]
  },
  {
   "cell_type": "code",
   "execution_count": 35,
   "id": "9ba6280b",
   "metadata": {},
   "outputs": [],
   "source": [
    "y_combinations = gp.tuplelist()\n",
    "for r in range(rows): \n",
    "    for b in range(blocks): \n",
    "        for i in range(idx): \n",
    "            for rr in range(rows): \n",
    "                for bb in range(blocks): \n",
    "                    for ii in range(idx): \n",
    "                        y_combinations.append((r,b,i,rr,bb,ii))\n",
    "                        \n",
    "x_combinations = gp.tuplelist()\n",
    "for r in range(rows): \n",
    "    for b in range(blocks): \n",
    "        for i in range(idx): \n",
    "            x_combinations.append((r,b,i))"
   ]
  },
  {
   "cell_type": "markdown",
   "id": "6b9744b6",
   "metadata": {},
   "source": [
    "#### Find $M$ and $V$"
   ]
  },
  {
   "cell_type": "markdown",
   "id": "95c0b236",
   "metadata": {},
   "source": [
    "First find $V$ -> Maximize the profit"
   ]
  },
  {
   "cell_type": "code",
   "execution_count": 36,
   "id": "3e7023fb",
   "metadata": {},
   "outputs": [
    {
     "name": "stdout",
     "output_type": "stream",
     "text": [
      "Academic license - for non-commercial use only - expires 2021-07-07\n",
      "Using license file C:\\Users\\wnsvy\\gurobi.lic\n"
     ]
    }
   ],
   "source": [
    "m = gp.Model('model1')\n",
    "variable_x = m.addVars(x_combinations, name='variable_X',vtype=GRB.BINARY)\n",
    "# variable_y = m.addVars(y_combinations, name = 'variable_Y',vtype=GRB.BINARY)"
   ]
  },
  {
   "cell_type": "code",
   "execution_count": 37,
   "id": "37e61789",
   "metadata": {},
   "outputs": [],
   "source": [
    "z_profit = m.addVar(name='Z_profit', vtype=GRB.CONTINUOUS)"
   ]
  },
  {
   "cell_type": "code",
   "execution_count": 38,
   "id": "d09468ff",
   "metadata": {},
   "outputs": [
    {
     "data": {
      "text/plain": [
       "<gurobi.Constr *Awaiting Model Update*>"
      ]
     },
     "execution_count": 38,
     "metadata": {},
     "output_type": "execute_result"
    }
   ],
   "source": [
    "### profit constraints ###\n",
    "profit_const = gp.LinExpr()\n",
    "for r in range(rows): \n",
    "    for b in range(blocks): \n",
    "        for i in range(idx): \n",
    "            loc_1 = (r,b,i)\n",
    "            profit_const += w_vip[loc_1] * variable_x[loc_1]\n",
    "m.addConstr(profit_const == z_profit)"
   ]
  },
  {
   "cell_type": "code",
   "execution_count": 39,
   "id": "771b4f59",
   "metadata": {},
   "outputs": [
    {
     "data": {
      "text/plain": [
       "<gurobi.Constr *Awaiting Model Update*>"
      ]
     },
     "execution_count": 39,
     "metadata": {},
     "output_type": "execute_result"
    }
   ],
   "source": [
    "m.addConstr(variable_x.sum() == int(0.50 * len(variable_x) + 0.5)) # 50% 채우기"
   ]
  },
  {
   "cell_type": "code",
   "execution_count": 40,
   "id": "6e067215",
   "metadata": {},
   "outputs": [
    {
     "name": "stdout",
     "output_type": "stream",
     "text": [
      "Gurobi Optimizer version 9.1.2 build v9.1.2rc0 (win64)\n",
      "Thread count: 8 physical cores, 16 logical processors, using up to 16 threads\n",
      "Optimize a model with 2 rows, 1211 columns and 2421 nonzeros\n",
      "Model fingerprint: 0xafd43cb0\n",
      "Variable types: 1 continuous, 1210 integer (1210 binary)\n",
      "Coefficient statistics:\n",
      "  Matrix range     [1e+00, 1e+00]\n",
      "  Objective range  [1e+00, 1e+00]\n",
      "  Bounds range     [1e+00, 1e+00]\n",
      "  RHS range        [6e+02, 6e+02]\n",
      "Found heuristic solution: objective 651.9230769\n",
      "Presolve removed 2 rows and 1211 columns\n",
      "Presolve time: 0.01s\n",
      "Presolve: All rows and columns removed\n",
      "\n",
      "Explored 0 nodes (0 simplex iterations) in 0.02 seconds\n",
      "Thread count was 1 (of 16 available processors)\n",
      "\n",
      "Solution count 2: 697.154 651.923 \n",
      "\n",
      "Optimal solution found (tolerance 1.00e-04)\n",
      "Best objective 6.971538461538e+02, best bound 6.971538461538e+02, gap 0.0000%\n"
     ]
    }
   ],
   "source": [
    "m.modelSense=GRB.MAXIMIZE\n",
    "m.setObjective(z_profit)\n",
    "m.optimize()"
   ]
  },
  {
   "cell_type": "code",
   "execution_count": 41,
   "id": "3a3f1508",
   "metadata": {},
   "outputs": [],
   "source": [
    "profit = z_profit.X"
   ]
  },
  {
   "cell_type": "code",
   "execution_count": 42,
   "id": "c7cb1aa8",
   "metadata": {},
   "outputs": [
    {
     "data": {
      "text/plain": [
       "697.153846153848"
      ]
     },
     "execution_count": 42,
     "metadata": {},
     "output_type": "execute_result"
    }
   ],
   "source": [
    "profit"
   ]
  },
  {
   "cell_type": "code",
   "execution_count": 43,
   "id": "70a7e331",
   "metadata": {},
   "outputs": [
    {
     "name": "stdout",
     "output_type": "stream",
     "text": [
      "None.jpg\n",
      "605  audiences here\n"
     ]
    },
    {
     "data": {
      "image/png": "[encoded data removed]",
      "text/plain": [
       "<Figure size 432x288 with 1 Axes>"
      ]
     },
     "metadata": {
      "needs_background": "light"
     },
     "output_type": "display_data"
    }
   ],
   "source": [
    "draw_seat(variable_x, 'None', profit)"
   ]
  },
  {
   "cell_type": "code",
   "execution_count": 44,
   "id": "ac3fe72a",
   "metadata": {},
   "outputs": [],
   "source": [
    "V = profit"
   ]
  },
  {
   "cell_type": "markdown",
   "id": "49c86ce7",
   "metadata": {},
   "source": [
    "Next, find $\\beta$ -> Maximize Risk Exposure"
   ]
  },
  {
   "cell_type": "code",
   "execution_count": 45,
   "id": "5cf89203",
   "metadata": {},
   "outputs": [],
   "source": [
    "m = gp.Model('model1')\n",
    "variable_x = m.addVars(x_combinations, name='variable_X',vtype=GRB.BINARY)\n",
    "variable_y = m.addVars(y_combinations, name = 'variable_Y',vtype=GRB.BINARY)"
   ]
  },
  {
   "cell_type": "code",
   "execution_count": 46,
   "id": "150bb8fc",
   "metadata": {},
   "outputs": [],
   "source": [
    "z_location_risk = m.addVar(name='Z_Loc_risk', vtype=GRB.CONTINUOUS)\n",
    "z_distancing_risk = m.addVar(name='Z_Dist_risk', vtype=GRB.CONTINUOUS)"
   ]
  },
  {
   "cell_type": "code",
   "execution_count": 47,
   "id": "0d2e8a84",
   "metadata": {
    "scrolled": true
   },
   "outputs": [
    {
     "data": {
      "text/plain": [
       "<gurobi.Constr *Awaiting Model Update*>"
      ]
     },
     "execution_count": 47,
     "metadata": {},
     "output_type": "execute_result"
    }
   ],
   "source": [
    "### audience constratins ###\n",
    "## m.addConstr(variable_x.sum() >= 0.65 * len(variable_x))\n",
    "# m.addConstr(variable_x.sum() == int(0.65 * len(variable_x) + 0.5)) # 65% 정확히 채우기\n",
    "m.addConstr(variable_x.sum() == int(0.50 * len(variable_x) + 0.5)) # 50% 정확히 채우기\n",
    "\n",
    "\n",
    "m.addConstrs((variable_y[(r,b,i,rr,bb,ii)]  <= \n",
    "              (variable_x[(r,b,i)] + variable_x[(rr,bb,ii)]) / 2\n",
    "                  for r in range(rows)\n",
    "                  for b in range(blocks)\n",
    "                  for i in range(idx)\n",
    "                  for rr in range(rows)\n",
    "                  for bb in range(blocks)\n",
    "                  for ii in range(idx)\n",
    "                  if (r,b,i) != (rr,bb,ii)), name='y_constr')\n",
    "\n",
    "lambda_gamma = get_lambda(gamma=1)\n",
    "\n",
    "location_risk = gp.LinExpr() # 위치에 기반한 리스크 (복도 근처 패널티, 람다, 알파 관련)    \n",
    "\n",
    "for r in range(rows): \n",
    "    for b in range(blocks): \n",
    "        for i in range(idx): \n",
    "            loc_1 = (r,b,i)\n",
    "            location_risk += alpha[b,i] * lambda_gamma[r] * variable_x[loc_1]\n",
    "m.addConstr(location_risk == z_location_risk)\n",
    "\n",
    "distancing_risk = gp.LinExpr() # 거리두기에 기반한 리스크 (베타 관련)\n",
    "for r in range(rows): \n",
    "    for b in range(blocks): \n",
    "        for i in range(idx): \n",
    "            loc_1 = (r,b,i)\n",
    "            for rr in range(rows): \n",
    "                for bb in range(blocks): \n",
    "                    for ii in range(idx): \n",
    "                        loc_2 = (rr,bb,ii)\n",
    "                        loc = loc_1 + loc_2\n",
    "                        distancing_risk += variable_y[loc] * beta[loc]\n",
    "m.addConstr(distancing_risk == z_distancing_risk)\n"
   ]
  },
  {
   "cell_type": "code",
   "execution_count": 48,
   "id": "a71e71f9",
   "metadata": {},
   "outputs": [
    {
     "name": "stdout",
     "output_type": "stream",
     "text": [
      "Gurobi Optimizer version 9.1.2 build v9.1.2rc0 (win64)\n",
      "Thread count: 8 physical cores, 16 logical processors, using up to 16 threads\n",
      "Optimize a model with 1462893 rows, 1465312 columns and 4401472 nonzeros\n",
      "Model fingerprint: 0x6b05a337\n",
      "Variable types: 2 continuous, 1465310 integer (1465310 binary)\n",
      "Coefficient statistics:\n",
      "  Matrix range     [6e-03, 1e+00]\n",
      "  Objective range  [1e+00, 1e+00]\n",
      "  Bounds range     [1e+00, 1e+00]\n",
      "  RHS range        [6e+02, 6e+02]\n",
      "Found heuristic solution: objective 71.5414987\n",
      "Presolve removed 1457702 rows and 1458912 columns\n",
      "Presolve time: 1.24s\n",
      "Presolved: 5191 rows, 6400 columns, 16780 nonzeros\n",
      "Variable types: 0 continuous, 6400 integer (6400 binary)\n",
      "\n",
      "Root relaxation: objective 6.087418e+03, 9151 iterations, 0.11 seconds\n",
      "\n",
      "    Nodes    |    Current Node    |     Objective Bounds      |     Work\n",
      " Expl Unexpl |  Obj  Depth IntInf | Incumbent    BestBd   Gap | It/Node Time\n",
      "\n",
      "     0     0 6087.41818    0 1268   71.54150 6087.41818  8409%     -    1s\n",
      "H    0     0                    4819.4181846 6087.41818  26.3%     -    1s\n",
      "H    0     0                    4823.4156205 6087.41818  26.2%     -    1s\n",
      "H    0     0                    4846.6125818 6087.41562  25.6%     -    1s\n",
      "H    0     0                    4854.6237997 6087.41562  25.4%     -    2s\n",
      "     0     0 5852.75870    0 1448 4854.62380 5852.75870  20.6%     -    2s\n",
      "H    0     0                    4858.9636145 5852.75870  20.5%     -    2s\n",
      "H    0     0                    4860.8818685 5852.75870  20.4%     -    2s\n",
      "     0     0 5852.75870    0 1438 4860.88187 5852.75870  20.4%     -    2s\n",
      "     0     0 5555.99533    0 1175 4860.88187 5555.99533  14.3%     -    2s\n",
      "     0     0 5478.47878    0  655 4860.88187 5478.47878  12.7%     -    2s\n",
      "     0     0 5476.54498    0  653 4860.88187 5476.54498  12.7%     -    2s\n",
      "H    0     0                    4860.9152018 5476.54498  12.7%     -    2s\n",
      "     0     0 5400.60641    0  767 4860.91520 5400.60641  11.1%     -    2s\n",
      "H    0     0                    4861.0485352 5400.60641  11.1%     -    2s\n",
      "     0     0 5394.66779    0  856 4861.04854 5394.66779  11.0%     -    2s\n",
      "     0     0 5390.17759    0  611 4861.04854 5390.17759  10.9%     -    2s\n",
      "H    0     0                    4861.2777018 5390.17759  10.9%     -    2s\n",
      "H    0     0                    4861.2884342 5390.17759  10.9%     -    2s\n",
      "H    0     0                    4861.3439897 5390.17759  10.9%     -    2s\n",
      "     0     0 5368.05126    0  696 4861.34399 5368.05126  10.4%     -    2s\n",
      "H    0     0                    4861.5106564 5368.05126  10.4%     -    2s\n",
      "H    0     0                    4861.9030175 5368.05126  10.4%     -    2s\n",
      "H    0     0                    4861.9206943 5368.05126  10.4%     -    2s\n",
      "H    0     0                    4862.0014635 5368.05126  10.4%     -    2s\n",
      "     0     0 5361.65386    0  901 4862.00146 5361.65386  10.3%     -    2s\n",
      "H    0     0                    4864.0097052 5361.65386  10.2%     -    2s\n",
      "H    0     0                    4866.2319275 5361.65386  10.2%     -    2s\n",
      "H    0     0                    4868.0670285 5361.65386  10.1%     -    2s\n",
      "     0     0 5358.77810    0  910 4868.06703 5358.77810  10.1%     -    2s\n",
      "H    0     0                    4870.0180386 5358.77810  10.0%     -    2s\n",
      "H    0     0                    4874.2291497 5358.77810  9.94%     -    2s\n",
      "     0     0 5358.67505    0  924 4874.22915 5358.67505  9.94%     -    2s\n",
      "H    0     0                    4874.4271295 5358.67505  9.93%     -    2s\n",
      "H    0     0                    4876.8181551 5358.67505  9.88%     -    2s\n",
      "H    0     0                    4878.9362107 5358.67505  9.83%     -    2s\n",
      "     0     0 5332.06943    0  504 4878.93621 5332.06943  9.29%     -    2s\n",
      "H    0     0                    4879.0372791 5332.06943  9.29%     -    3s\n",
      "H    0     0                    4883.2402693 5332.06943  9.19%     -    3s\n",
      "     0     0 5324.36138    0  350 4883.24027 5324.36138  9.03%     -    3s\n",
      "     0     0 5319.51196    0  175 4883.24027 5319.51196  8.93%     -    3s\n",
      "     0     0 5317.65926    0  467 4883.24027 5317.65926  8.90%     -    3s\n",
      "H    0     0                    4883.5675072 5317.65926  8.89%     -    3s\n",
      "     0     0 5317.53875    0  413 4883.56751 5317.53875  8.89%     -    3s\n",
      "H    0     0                    4884.8036183 5317.53875  8.86%     -    3s\n",
      "H    0     0                    4886.8036183 5317.53875  8.81%     -    3s\n",
      "     0     0 5300.18120    0  962 4886.80362 5300.18120  8.46%     -    3s\n",
      "H    0     0                    4890.9900985 5300.18120  8.37%     -    3s\n",
      "     0     0 5296.70619    0  832 4890.99010 5296.70619  8.30%     -    3s\n",
      "     0     0 5294.21998    0  792 4890.99010 5294.21998  8.24%     -    3s\n",
      "H    0     0                    4892.2835508 5294.21998  8.22%     -    3s\n",
      "     0     0 5292.42017    0  796 4892.28355 5292.42017  8.18%     -    3s\n",
      "     0     0 5292.21751    0  788 4892.28355 5292.21751  8.17%     -    3s\n",
      "     0     0 5289.15208    0  540 4892.28355 5289.15208  8.11%     -    3s\n",
      "H    0     0                    5242.7943731 5289.15208  0.88%     -    3s\n",
      "H    0     0                    5254.3360397 5289.15208  0.66%     -    3s\n",
      "     0     0 5288.15289    0  522 5254.33604 5288.15289  0.64%     -    4s\n",
      "     0     0 5287.46105    0  524 5254.33604 5287.46105  0.63%     -    4s\n",
      "     0     0 5286.36093    0  725 5254.33604 5286.36093  0.61%     -    4s\n",
      "     0     0 5286.36093    0  724 5254.33604 5286.36093  0.61%     -    4s\n",
      "     0     2 5286.36093    0  724 5254.33604 5286.36093  0.61%     -    4s\n",
      "    70    80 5277.02796    9  517 5254.33604 5285.93205  0.60%   105    5s\n",
      "H   78    80                    5257.3152064 5285.93205  0.54%  99.3    5s\n",
      "H  118   124                    5259.3382833 5285.93205  0.51%  99.4    5s\n",
      "H  149   164                    5259.8300189 5285.93205  0.50%  99.0    5s\n",
      "H  151   164                    5260.3300189 5285.93205  0.49%  98.0    5s\n",
      "H  156   164                    5261.3478760 5285.93205  0.47%   100    5s\n",
      "H  162   164                    5262.2590482 5285.93205  0.45%  97.3    5s\n",
      "H  199   208                    5262.2913825 5285.93205  0.45%  99.0    5s\n",
      "H  239   240                    5262.3716855 5285.93205  0.45%  93.7    5s\n",
      "H  267   264                    5269.3369469 5285.93205  0.31%  91.9    5s\n",
      "H  278   267                    5271.3702803 5285.39483  0.27%  89.6    5s\n",
      "H  280   267                    5275.6147247 5285.39483  0.19%  90.7    6s\n",
      "H  281   267                    5275.6480581 5285.39483  0.18%  90.8    6s\n",
      "H  329   284                    5275.7313914 5285.39483  0.18%  89.6    6s\n",
      "H  390   339                    5276.0290104 5285.39483  0.18%  91.8    6s\n",
      "H  432   364                    5277.0647247 5285.39483  0.16%  93.2    6s\n",
      "H  480   383                    5278.0647247 5284.49334  0.12%  91.9    7s\n",
      "H  481   383                    5278.9813914 5284.49334  0.10%  91.7    7s\n",
      "H  496   383                    5280.5308419 5284.49334  0.08%  91.3    7s\n",
      "*  778   389              50    5280.8687540 5283.62996  0.05%  92.0    8s\n",
      "\n",
      "Cutting planes:\n",
      "  Gomory: 29\n",
      "  Cover: 3874\n",
      "  MIR: 2\n",
      "  Zero half: 39\n",
      "\n",
      "Explored 1451 nodes (122871 simplex iterations) in 9.72 seconds\n",
      "Thread count was 16 (of 16 available processors)\n",
      "\n",
      "Solution count 10: 5280.87 5280.53 5278.98 ... 5271.37\n",
      "\n",
      "Optimal solution found (tolerance 1.00e-04)\n",
      "Best objective 5.280868754024e+03, best bound 5.280868754024e+03, gap 0.0000%\n"
     ]
    }
   ],
   "source": [
    "## Set Objective\n",
    "m.modelSense=GRB.MAXIMIZE\n",
    "m.setObjective(z_location_risk + z_distancing_risk)\n",
    "\n",
    "m.optimize()"
   ]
  },
  {
   "cell_type": "code",
   "execution_count": 49,
   "id": "49ce1ac1",
   "metadata": {},
   "outputs": [],
   "source": [
    "location_risk = z_location_risk.X\n",
    "distancing_risk = z_distancing_risk.X\n",
    "total_risk = location_risk + distancing_risk"
   ]
  },
  {
   "cell_type": "code",
   "execution_count": 50,
   "id": "ec76df7f",
   "metadata": {},
   "outputs": [
    {
     "name": "stdout",
     "output_type": "stream",
     "text": [
      "None.jpg\n",
      "605  audiences here\n"
     ]
    },
    {
     "data": {
      "image/png": "[encoded data removed]",
      "text/plain": [
       "<Figure size 432x288 with 1 Axes>"
      ]
     },
     "metadata": {
      "needs_background": "light"
     },
     "output_type": "display_data"
    }
   ],
   "source": [
    "draw_seat(variable_x, 'None', profit)"
   ]
  },
  {
   "cell_type": "code",
   "execution_count": 51,
   "id": "c2f51237",
   "metadata": {},
   "outputs": [
    {
     "data": {
      "text/plain": [
       "68.86875402375411"
      ]
     },
     "execution_count": 51,
     "metadata": {},
     "output_type": "execute_result"
    }
   ],
   "source": [
    "location_risk"
   ]
  },
  {
   "cell_type": "code",
   "execution_count": 52,
   "id": "31ff3b98",
   "metadata": {},
   "outputs": [
    {
     "data": {
      "text/plain": [
       "5212.0"
      ]
     },
     "execution_count": 52,
     "metadata": {},
     "output_type": "execute_result"
    }
   ],
   "source": [
    "distancing_risk"
   ]
  },
  {
   "cell_type": "code",
   "execution_count": 53,
   "id": "87e40681",
   "metadata": {},
   "outputs": [
    {
     "data": {
      "text/plain": [
       "5280.868754023754"
      ]
     },
     "execution_count": 53,
     "metadata": {},
     "output_type": "execute_result"
    }
   ],
   "source": [
    "total_risk"
   ]
  },
  {
   "cell_type": "code",
   "execution_count": 54,
   "id": "c77e8144",
   "metadata": {},
   "outputs": [],
   "source": [
    "M = total_risk"
   ]
  },
  {
   "cell_type": "markdown",
   "id": "8b401a7d",
   "metadata": {},
   "source": [
    "#### Solve Bi objective model"
   ]
  },
  {
   "cell_type": "code",
   "execution_count": 55,
   "id": "ee5aaca3",
   "metadata": {
    "scrolled": true
   },
   "outputs": [],
   "source": [
    "def solve_model(alpha, w, gamma): # bi-objective model\n",
    "    \n",
    "    print(save_path)\n",
    "    \n",
    "    lambda_gamma = get_lambda(gamma=gamma)\n",
    "    \n",
    "    m = gp.Model('Model1')\n",
    "\n",
    "    ### variables ###\n",
    "    variable_x = m.addVars(x_combinations, name='variable_X',vtype=GRB.BINARY)\n",
    "    variable_y = m.addVars(y_combinations, name = 'variable_Y',vtype=GRB.BINARY)\n",
    "    z_location_risk = m.addVar(name='Z_Loc_risk', vtype=GRB.CONTINUOUS)\n",
    "    z_distancing_risk = m.addVar(name='Z_Dist_risk', vtype=GRB.CONTINUOUS)\n",
    "    z_risk_exposure = m.addVar(name='Z_risk_exposure', vtype=GRB.CONTINUOUS)\n",
    "    z_profit = m.addVar(name='Z_profit', vtype=GRB.CONTINUOUS)\n",
    "\n",
    "\n",
    "    m.addConstrs((variable_x[(r,b,i)] + variable_x[(rr,bb,ii)] - 1 <= \n",
    "                  variable_y[(r,b,i,rr,bb,ii)] \n",
    "                  for r in range(rows)\n",
    "                  for b in range(blocks)\n",
    "                  for i in range(idx)\n",
    "                  for rr in range(rows)\n",
    "                  for bb in range(blocks)\n",
    "                  for ii in range(idx)\n",
    "                  if (r,b,i) != (rr,bb,ii)), name='y_constr')\n",
    "\n",
    "    \n",
    "    ### risk constraints ###\n",
    "    \n",
    "    location_risk = gp.LinExpr() # 위치에 기반한 리스크 (복도 근처 패널티, 람다, 알파 관련)    \n",
    "    for r in range(rows): \n",
    "        for b in range(blocks): \n",
    "            for i in range(idx): \n",
    "                loc_1 = (r,b,i)\n",
    "                location_risk += alpha[b,i] * lambda_gamma[r] * variable_x[loc_1]\n",
    "    m.addConstr(location_risk == z_location_risk)\n",
    "    \n",
    "    distancing_risk = gp.LinExpr() # 거리두기에 기반한 리스크 (베타 관련)\n",
    "    for r in range(rows): \n",
    "        for b in range(blocks): \n",
    "            for i in range(idx): \n",
    "                loc_1 = (r,b,i)\n",
    "                for rr in range(rows): \n",
    "                    for bb in range(blocks): \n",
    "                        for ii in range(idx): \n",
    "                            loc_2 = (rr,bb,ii)\n",
    "                            loc = loc_1 + loc_2\n",
    "                            distancing_risk += variable_y[loc] * beta[loc]\n",
    "    m.addConstr(distancing_risk == z_distancing_risk)\n",
    "    \n",
    "    m.addConstr(z_risk_exposure == z_distancing_risk + z_location_risk) # Z_risk_exposure (total risk)\n",
    "\n",
    "    ### profit constraints ###\n",
    "    profit_const = gp.LinExpr()\n",
    "    for r in range(rows): \n",
    "        for b in range(blocks): \n",
    "            for i in range(idx): \n",
    "                loc_1 = (r,b,i)\n",
    "                profit_const += w_vip[loc_1] * variable_x[loc_1]\n",
    "    m.addConstr(profit_const == z_profit)\n",
    "\n",
    "    ### audience constratins ###\n",
    "    ## m.addConstr(variable_x.sum() >= 0.65 * len(variable_x))\n",
    "    m.addConstr(variable_x.sum() == int(0.50 * len(variable_x) + 0.5)) # 50% 채우기\n",
    "\n",
    "    ## Set Objective\n",
    "    m.modelSense=GRB.MAXIMIZE\n",
    "    m.setObjective((w/V) * z_profit - ((1-w)/M) * z_risk_exposure ) # Bi-objective\n",
    "    \n",
    "    m.setParam(\"TimeLimit\", 1200.0); # time limit 최대 20분\n",
    "    m.optimize()\n",
    "    \n",
    "    profit = z_profit.X # profit\n",
    "    location_risk = z_location_risk.X # location risk\n",
    "    distancing_risk = z_distancing_risk.X # distancing risk\n",
    "    risk_exposure = z_risk_exposure.X # total risk exposure\n",
    "    \n",
    "    draw_seat(variable_x, save_path, profit) # draw the allocation result\n",
    "        \n",
    "    ret_x = np.zeros([rows,blocks,idx]) # seat assign result\n",
    "    \n",
    "    for r in range(rows): \n",
    "        for b in range(blocks): \n",
    "            for i in range(idx):\n",
    "                ret_x[r,b,i] = variable_x[(r,b,i)].X\n",
    "                \n",
    "    np.save(save_path + '/variable_x', ret_x) # save the X result as a numpy array\n",
    "    pr_ratio = profit / risk_exposure\n",
    "    post_message(myToken,\"#working_complete\",save_path + ' Saved Completed!!!!!!!!  Profit = ' + str(profit) +\n",
    "                'Total_risk = ' + str(risk_exposure) + '    PR_ratio = ' + str(pr_ratio))\n",
    "    \n",
    "\n",
    "    return profit, location_risk, distancing_risk"
   ]
  },
  {
   "cell_type": "markdown",
   "id": "9ca35bd6",
   "metadata": {},
   "source": [
    "---"
   ]
  },
  {
   "cell_type": "markdown",
   "id": "bf268f95",
   "metadata": {},
   "source": [
    "## Baseline Setting (1자리 건너 1자리 띄우기)"
   ]
  },
  {
   "cell_type": "code",
   "execution_count": 57,
   "id": "9b8fdbdc",
   "metadata": {},
   "outputs": [],
   "source": [
    "count = 0\n",
    "base_x = np.zeros([rows,blocks,idx])\n",
    "for r in range(rows):\n",
    "    for b in range(blocks):\n",
    "        for i in range(idx):\n",
    "            count += 1\n",
    "            base_x[r,b,i] = count % 2"
   ]
  },
  {
   "cell_type": "code",
   "execution_count": 58,
   "id": "1e404e7d",
   "metadata": {},
   "outputs": [
    {
     "data": {
      "image/png": "[encoded data removed]",
      "text/plain": [
       "<Figure size 432x288 with 1 Axes>"
      ]
     },
     "metadata": {
      "needs_background": "light"
     },
     "output_type": "display_data"
    }
   ],
   "source": [
    "draw_seat(base_x,0,0) # 50% 무지성 배열"
   ]
  },
  {
   "cell_type": "code",
   "execution_count": 59,
   "id": "1ee9a93b",
   "metadata": {},
   "outputs": [],
   "source": [
    "def calc_base_PR_ratio():\n",
    "    \n",
    "    lambda_gamma = get_lambda(gamma)\n",
    "    ### risk ###\n",
    "    location_risk = 0\n",
    "    for r in range(rows): \n",
    "        for b in range(blocks): \n",
    "            for i in range(idx): \n",
    "                loc_1 = (r,b,i)\n",
    "                location_risk += alpha[b,i] * lambda_gamma[r] * base_x[loc_1]\n",
    "    \n",
    "    distancing_risk = 0 # 거리두기에 기반한 리스크 (베타 관련)\n",
    "    for r in range(rows): \n",
    "        for b in range(blocks): \n",
    "            for i in range(idx): \n",
    "                loc_1 = (r,b,i)\n",
    "                for rr in range(rows): \n",
    "                    for bb in range(blocks): \n",
    "                        for ii in range(idx): \n",
    "                            loc_2 = (rr,bb,ii)\n",
    "                            loc = loc_1 + loc_2\n",
    "                            distancing_risk += base_x[loc_1] * base_x[loc_2] * beta[loc] # Y \\times \\beta\n",
    "\n",
    "    ### profit constraints ###\n",
    "    profit = 0\n",
    "    for r in range(rows): \n",
    "        for b in range(blocks): \n",
    "            for i in range(idx): \n",
    "                loc_1 = (r,b,i)\n",
    "                profit += w_vip[loc_1] * base_x[loc_1]\n",
    "    \n",
    "    total_risk = location_risk + distancing_risk\n",
    "    pr_ratio = profit / total_risk\n",
    "    return profit, location_risk, distancing_risk, total_risk, pr_ratio"
   ]
  },
  {
   "cell_type": "code",
   "execution_count": 60,
   "id": "65c7f27a",
   "metadata": {},
   "outputs": [
    {
     "data": {
      "text/plain": [
       "(650.999999999998,\n",
       " 74.539674730032,\n",
       " 2990.0,\n",
       " 3064.539674730032,\n",
       " 0.21242994677735647)"
      ]
     },
     "execution_count": 60,
     "metadata": {},
     "output_type": "execute_result"
    }
   ],
   "source": [
    "calc_base_PR_ratio()"
   ]
  },
  {
   "cell_type": "markdown",
   "id": "b04f802c",
   "metadata": {},
   "source": [
    "## Parameter Searching"
   ]
  },
  {
   "cell_type": "markdown",
   "id": "cb869f58",
   "metadata": {},
   "source": [
    "gamma and w is hyper parameter"
   ]
  },
  {
   "cell_type": "code",
   "execution_count": 62,
   "id": "515dbe8b",
   "metadata": {},
   "outputs": [],
   "source": [
    "gamma = 1\n",
    "w = 0.3"
   ]
  },
  {
   "cell_type": "code",
   "execution_count": 63,
   "id": "478a7a69",
   "metadata": {
    "scrolled": false
   },
   "outputs": [
    {
     "name": "stdout",
     "output_type": "stream",
     "text": [
      "solving....\n",
      "bi_obj_half_edit_beta/w=0.3 gamma=1\n",
      "Changed value of parameter TimeLimit to 1200.0\n",
      "   Prev: inf  Min: 0.0  Max: inf  Default: inf\n",
      "Gurobi Optimizer version 9.1.2 build v9.1.2rc0 (win64)\n",
      "Thread count: 8 physical cores, 16 logical processors, using up to 16 threads\n",
      "Optimize a model with 1462895 rows, 1465314 columns and 4402686 nonzeros\n",
      "Model fingerprint: 0xd7c8815a\n",
      "Variable types: 4 continuous, 1465310 integer (1465310 binary)\n",
      "Coefficient statistics:\n",
      "  Matrix range     [6e-03, 1e+00]\n",
      "  Objective range  [1e-04, 4e-04]\n",
      "  Bounds range     [1e+00, 1e+00]\n",
      "  RHS range        [1e+00, 6e+02]\n",
      "Presolve removed 1457704 rows and 1458914 columns\n",
      "Presolve time: 1.38s\n",
      "Presolved: 5191 rows, 6400 columns, 16780 nonzeros\n",
      "Variable types: 0 continuous, 6400 integer (6400 binary)\n",
      "Found heuristic solution: objective -0.0432366\n",
      "\n",
      "Root relaxation: objective 2.702882e-01, 1237 iterations, 0.01 seconds\n",
      "\n",
      "    Nodes    |    Current Node    |     Objective Bounds      |     Work\n",
      " Expl Unexpl |  Obj  Depth IntInf | Incumbent    BestBd   Gap | It/Node Time\n",
      "\n",
      "     0     0    0.27029    0 1210   -0.04324    0.27029   725%     -    2s\n",
      "H    0     0                       0.0634639    0.27029   326%     -    2s\n",
      "H    0     0                       0.0641684    0.27029   321%     -    2s\n",
      "     0     0    0.19627    0 1767    0.06417    0.19627   206%     -    2s\n",
      "     0     0    0.12907    0 2703    0.06417    0.12907   101%     -    3s\n",
      "     0     0    0.10261    0 3594    0.06417    0.10261  59.9%     -    4s\n",
      "H    0     0                       0.0647408    0.10261  58.5%     -    4s\n",
      "     0     0    0.09222    0 3627    0.06474    0.09222  42.4%     -    5s\n",
      "     0     0    0.08866    0 3204    0.06474    0.08866  37.0%     -    7s\n",
      "     0     0    0.08799    0 3050    0.06474    0.08799  35.9%     -    7s\n",
      "     0     0    0.08772    0 3238    0.06474    0.08772  35.5%     -    8s\n",
      "     0     0    0.08238    0 4642    0.06474    0.08238  27.3%     -   12s\n",
      "H    0     0                       0.0654460    0.08238  25.9%     -   12s\n",
      "H    0     0                       0.0658163    0.08238  25.2%     -   13s\n",
      "     0     0    0.08051    0 4711    0.06582    0.08051  22.3%     -   13s\n",
      "     0     0    0.07996    0 4757    0.06582    0.07996  21.5%     -   14s\n",
      "     0     0    0.07976    0 4773    0.06582    0.07976  21.2%     -   14s\n",
      "     0     0    0.07751    0 4698    0.06582    0.07751  17.8%     -   16s\n",
      "H    0     0                       0.0658941    0.07751  17.6%     -   16s\n",
      "     0     0    0.07669    0 4783    0.06589    0.07669  16.4%     -   18s\n",
      "     0     0    0.07648    0 4402    0.06589    0.07648  16.1%     -   18s\n",
      "     0     0    0.07604    0 4033    0.06589    0.07604  15.4%     -   19s\n",
      "H    0     0                       0.0659117    0.07604  15.4%     -   19s\n",
      "H    0     0                       0.0659427    0.07604  15.3%     -   20s\n",
      "     0     0    0.07588    0 4058    0.06594    0.07588  15.1%     -   20s\n",
      "     0     0    0.07572    0 3617    0.06594    0.07572  14.8%     -   21s\n",
      "H    0     0                       0.0659736    0.07572  14.8%     -   21s\n",
      "     0     0    0.07566    0 3625    0.06597    0.07566  14.7%     -   21s\n",
      "     0     0    0.07562    0 3601    0.06597    0.07562  14.6%     -   22s\n",
      "     0     0    0.07562    0 3598    0.06597    0.07562  14.6%     -   22s\n",
      "H    0     0                       0.0683449    0.07562  10.6%     -   22s\n",
      "H    0     0                       0.0733772    0.07562  3.06%     -   24s\n",
      "     0     2    0.07562    0 3598    0.07338    0.07562  3.06%     -   24s\n",
      "     1     4    0.07539    1 2426    0.07338    0.07562  3.06%  1208   25s\n",
      "H   31    38                       0.0734075    0.07533  2.62%  1320   28s\n",
      "H   33    38                       0.0734237    0.07533  2.60%  1299   28s\n",
      "H   67    73                       0.0737569    0.07533  2.14%   994   29s\n",
      "    76    78    0.07447   10 2137    0.07376    0.07533  2.14%   960   30s\n",
      "H  109   109                       0.0739717    0.07533  1.84%   844   32s\n",
      "H  113   109                       0.0739752    0.07533  1.84%   835   32s\n",
      "   163   139    0.07412   17  896    0.07398    0.07533  1.84%   771   36s\n",
      "*  166   139              19       0.0740275    0.07533  1.76%   759   36s\n",
      "*  178   139              15       0.0741034    0.07533  1.66%   747   36s\n",
      "H  237   187                       0.0741090    0.07524  1.53%   659   38s\n",
      "H  238   187                       0.0741133    0.07524  1.52%   662   38s\n",
      "H  248   187                       0.0741607    0.07524  1.46%   659   38s\n",
      "H  250   187                       0.0742236    0.07524  1.37%   657   38s\n",
      "H  286   210                       0.0742300    0.07524  1.36%   641   39s\n",
      "H  288   210                       0.0742429    0.07524  1.35%   639   39s\n",
      "   297   219    0.07460   10 2396    0.07424    0.07524  1.35%   637   40s\n",
      "H  299   219                       0.0742436    0.07524  1.35%   637   40s\n",
      "   441   261    0.07440   16 2067    0.07424    0.07524  1.35%   618   45s\n",
      "H  442   261                       0.0742443    0.07524  1.34%   616   45s\n",
      "   548   303    0.07475   10 1824    0.07424    0.07524  1.34%   614   50s\n",
      "   715   359     cutoff   15         0.07424    0.07514  1.21%   591   55s\n",
      "   854   394     cutoff   18         0.07424    0.07509  1.14%   587   60s\n",
      "  1011   438    0.07435   13 1813    0.07424    0.07509  1.14%   582   65s\n",
      "  1118   429    0.07456   12 1817    0.07424    0.07509  1.14%   582   70s\n",
      "  1345   462     cutoff   14         0.07424    0.07504  1.07%   579   76s\n",
      "  1526   510    0.07481    9 1843    0.07424    0.07502  1.05%   585   82s\n",
      "  1659   530    0.07450   10 2405    0.07424    0.07501  1.04%   585   85s\n",
      "  1901   613     cutoff   19         0.07424    0.07500  1.01%   583   92s\n",
      "  2066   633    0.07425   18 1812    0.07424    0.07500  1.01%   576   96s\n",
      "  2242   644     cutoff   21         0.07424    0.07500  1.01%   570  101s\n",
      "  2444   669     cutoff   21         0.07424    0.07494  0.94%   573  107s\n",
      "  2539   697     cutoff   15         0.07424    0.07493  0.93%   574  110s\n",
      "  2770   756     cutoff   19         0.07424    0.07492  0.91%   573  116s\n",
      "  3019   817    0.07461   12 1290    0.07424    0.07490  0.88%   571  122s\n",
      "  3160   837    0.07472   10 1807    0.07424    0.07490  0.88%   570  126s\n",
      "  3266   859     cutoff   17         0.07424    0.07490  0.88%   568  130s\n",
      "  3564   919     cutoff   17         0.07424    0.07488  0.86%   566  137s\n",
      "  3700   940     cutoff   17         0.07424    0.07487  0.85%   569  142s\n",
      "  3847   975    0.07437   11 1798    0.07424    0.07486  0.83%   570  146s\n",
      "  4004  1015    0.07425   15  657    0.07424    0.07486  0.83%   572  150s\n",
      "  4149  1047    0.07428   22  602    0.07424    0.07484  0.81%   574  155s\n",
      "  4303  1066    0.07463   11 1829    0.07424    0.07484  0.80%   575  160s\n",
      "  4464  1088    0.07460   12 1822    0.07424    0.07483  0.79%   575  165s\n",
      "  4630  1123    0.07448   12 1838    0.07424    0.07482  0.78%   580  170s\n",
      "  4808  1162    0.07436   19  673    0.07424    0.07482  0.78%   581  175s\n",
      "  5002  1211     cutoff   28         0.07424    0.07481  0.76%   583  180s\n",
      "  5223  1241    0.07435   35 1176    0.07424    0.07480  0.74%   581  186s\n",
      "  5423  1280     cutoff   17         0.07424    0.07479  0.74%   582  193s\n",
      "  5650  1305    0.07456   11 2260    0.07424    0.07479  0.73%   579  199s\n",
      "  5878  1306    0.07459   10 3598    0.07424    0.07478  0.72%   580  210s\n",
      "  5884  1310    0.07455    8 4389    0.07424    0.07478  0.72%   580  215s\n",
      "  5887  1312    0.07439   16 2907    0.07424    0.07456  0.43%   579  221s\n",
      "\n",
      "Cutting planes:\n",
      "  Gomory: 107\n",
      "  MIR: 2345\n",
      "  Flow cover: 305\n",
      "  Zero half: 706\n",
      "  RLT: 1138\n",
      "  BQP: 359\n",
      "\n",
      "Explored 5888 nodes (3564819 simplex iterations) in 222.63 seconds\n",
      "Thread count was 16 (of 16 available processors)\n",
      "\n",
      "Solution count 10: 0.0742443 0.0742436 0.0742429 ... 0.0740275\n",
      "No other solutions better than 0.0742443\n",
      "\n",
      "Optimal solution found (tolerance 1.00e-04)\n",
      "Best objective 7.424434942775e-02, best bound 7.424434942775e-02, gap 0.0000%\n",
      "bi_obj_half_edit_beta/w=0.3 gamma=1.jpg\n"
     ]
    },
    {
     "data": {
      "image/png": "[encoded data removed]",
      "text/plain": [
       "<Figure size 432x288 with 1 Axes>"
      ]
     },
     "metadata": {
      "needs_background": "light"
     },
     "output_type": "display_data"
    },
    {
     "name": "stdout",
     "output_type": "stream",
     "text": [
      "605  audiences here\n",
      "<Response [200]>\n"
     ]
    }
   ],
   "source": [
    "folder_name = 'w=%s gamma=%d' % (str(w), gamma)\n",
    "save_path = basic_path + '/' + folder_name\n",
    "if makedirs(save_path): # 폴더 첫 생성\n",
    "    print('solving....')\n",
    "    profit, location_risk, distancing_risk = solve_model(alpha, w, gamma)\n",
    "    total_risk = location_risk + distancing_risk\n",
    "else:\n",
    "    post_message(myToken,\"#working_complete\",save_path + ' Folder already Exists')"
   ]
  },
  {
   "cell_type": "code",
   "execution_count": 72,
   "id": "27624fee",
   "metadata": {},
   "outputs": [],
   "source": [
    "results = []\n",
    "w_range = np.linspace(0,1,11) # [0, 0.1, 0.2 ... 0.9, 1]\n",
    "gamma_range = [1,5,9]"
   ]
  },
  {
   "cell_type": "code",
   "execution_count": 73,
   "id": "9bc7b013",
   "metadata": {},
   "outputs": [
    {
     "name": "stdout",
     "output_type": "stream",
     "text": [
      "bi_obj_half_edit_beta/w=1.0 gamma=9\n",
      "Changed value of parameter TimeLimit to 1200.0\n",
      "   Prev: inf  Min: 0.0  Max: inf  Default: inf\n",
      "Gurobi Optimizer version 9.1.2 build v9.1.2rc0 (win64)\n",
      "Thread count: 8 physical cores, 16 logical processors, using up to 16 threads\n",
      "Optimize a model with 1462895 rows, 1465314 columns and 4402686 nonzeros\n",
      "Model fingerprint: 0x2348d07d\n",
      "Variable types: 4 continuous, 1465310 integer (1465310 binary)\n",
      "Coefficient statistics:\n",
      "  Matrix range     [7e-02, 1e+00]\n",
      "  Objective range  [1e-03, 1e-03]\n",
      "  Bounds range     [1e+00, 1e+00]\n",
      "  RHS range        [1e+00, 6e+02]\n",
      "Presolve removed 1462895 rows and 1465314 columns\n",
      "Presolve time: 1.07s\n",
      "Presolve: All rows and columns removed\n",
      "\n",
      "Explored 0 nodes (0 simplex iterations) in 1.83 seconds\n",
      "Thread count was 1 (of 16 available processors)\n",
      "\n",
      "Solution count 1: 1 \n",
      "No other solutions better than 1\n",
      "\n",
      "Optimal solution found (tolerance 1.00e-04)\n",
      "Best objective 1.000000000000e+00, best bound 1.000000000000e+00, gap 0.0000%\n",
      "bi_obj_half_edit_beta/w=1.0 gamma=9.jpg\n"
     ]
    },
    {
     "data": {
      "image/png": "[encoded data removed]",
      "text/plain": [
       "<Figure size 432x288 with 1 Axes>"
      ]
     },
     "metadata": {
      "needs_background": "light"
     },
     "output_type": "display_data"
    },
    {
     "name": "stdout",
     "output_type": "stream",
     "text": [
      "605  audiences here\n",
      "<Response [200]>\n"
     ]
    }
   ],
   "source": [
    "from IPython.display import clear_output\n",
    "for gamma in gamma_range:\n",
    "    for w in w_range:\n",
    "        folder_name = 'w=%s gamma=%d' % (str(w), gamma) \n",
    "        save_path = basic_path + '/' + folder_name\n",
    "        if makedirs(save_path): # 폴더 첫 생성\n",
    "            try:\n",
    "                profit, location_risk, distancing_risk = solve_model(alpha, w, gamma)\n",
    "                total_risk = location_risk + distancing_risk\n",
    "                results.append([w, gamma, save_path, profit, location_risk, distancing_risk, total_risk])\n",
    "            except: # time limit\n",
    "                post_message(myToken,\"#working_complete\",save_path + ' Time Limit!!!!!!!!!!!!') # time limit cases\n",
    "                pass\n",
    "        else:\n",
    "            post_message(myToken,\"#working_complete\",save_path + ' Folder already Exists')\n",
    "        clear_output(wait=True)"
   ]
  },
  {
   "cell_type": "markdown",
   "id": "4e564ecd",
   "metadata": {},
   "source": [
    "## Results Analysis"
   ]
  },
  {
   "cell_type": "markdown",
   "id": "eb60fe47",
   "metadata": {},
   "source": [
    "* Allocation 결과마다 폴더를 생성하여 그 안에 이미지와 X값 array로 저장\n",
    "* result_df에 각 allocation에 따른 값들 저장"
   ]
  },
  {
   "cell_type": "markdown",
   "id": "bb2127eb",
   "metadata": {},
   "source": [
    "![](https://trello-attachments.s3.amazonaws.com/5b29ec749cfb0d90ada47d03/60756e3587120e556e094895/aa5cf19221cf38e55b7ae0615d77d9db/image.png)"
   ]
  },
  {
   "cell_type": "markdown",
   "id": "ed198d3b",
   "metadata": {},
   "source": [
    "![](https://trello-attachments.s3.amazonaws.com/5b29ec749cfb0d90ada47d03/60756e3587120e556e094895/e0ff138574f05fb983e54db4ff3d1ec6/image.png)"
   ]
  },
  {
   "cell_type": "code",
   "execution_count": 74,
   "id": "c43ec274",
   "metadata": {},
   "outputs": [],
   "source": [
    "results_df= pd.DataFrame(results,columns = ['w','gamma','save_path','profit','location_risk','distancing_risk','total_risk'])\n",
    "results_df.head()\n",
    "results_df = results_df.sort_values('profit', ascending=False)"
   ]
  },
  {
   "cell_type": "code",
   "execution_count": 75,
   "id": "e634c7a5",
   "metadata": {},
   "outputs": [],
   "source": [
    "# processing (risk대비 profit 계산)"
   ]
  },
  {
   "cell_type": "code",
   "execution_count": 76,
   "id": "c2e7176c",
   "metadata": {},
   "outputs": [],
   "source": [
    "results_df.to_pickle(basic_path + '/result_summary.pkl')"
   ]
  },
  {
   "cell_type": "code",
   "execution_count": 77,
   "id": "d87e2604",
   "metadata": {},
   "outputs": [],
   "source": [
    "results_df['PR_Ratio'] = results_df['profit'] / results_df['total_risk']"
   ]
  },
  {
   "cell_type": "code",
   "execution_count": 78,
   "id": "ee9c5d1a",
   "metadata": {},
   "outputs": [
    {
     "data": {
      "text/html": [
       "<div>\n",
       "<style scoped>\n",
       "    .dataframe tbody tr th:only-of-type {\n",
       "        vertical-align: middle;\n",
       "    }\n",
       "\n",
       "    .dataframe tbody tr th {\n",
       "        vertical-align: top;\n",
       "    }\n",
       "\n",
       "    .dataframe thead th {\n",
       "        text-align: right;\n",
       "    }\n",
       "</style>\n",
       "<table border=\"1\" class=\"dataframe\">\n",
       "  <thead>\n",
       "    <tr style=\"text-align: right;\">\n",
       "      <th></th>\n",
       "      <th>w</th>\n",
       "      <th>gamma</th>\n",
       "      <th>save_path</th>\n",
       "      <th>profit</th>\n",
       "      <th>location_risk</th>\n",
       "      <th>distancing_risk</th>\n",
       "      <th>total_risk</th>\n",
       "      <th>PR_Ratio</th>\n",
       "    </tr>\n",
       "  </thead>\n",
       "  <tbody>\n",
       "    <tr>\n",
       "      <th>3</th>\n",
       "      <td>0.3</td>\n",
       "      <td>5</td>\n",
       "      <td>bi_obj_half_edit_beta/w=0.30000000000000004 ga...</td>\n",
       "      <td>652.076923</td>\n",
       "      <td>174.756885</td>\n",
       "      <td>1480.0</td>\n",
       "      <td>1654.756885</td>\n",
       "      <td>0.394062</td>\n",
       "    </tr>\n",
       "    <tr>\n",
       "      <th>2</th>\n",
       "      <td>0.2</td>\n",
       "      <td>5</td>\n",
       "      <td>bi_obj_half_edit_beta/w=0.2 gamma=5</td>\n",
       "      <td>651.769231</td>\n",
       "      <td>174.126656</td>\n",
       "      <td>1480.0</td>\n",
       "      <td>1654.126656</td>\n",
       "      <td>0.394026</td>\n",
       "    </tr>\n",
       "    <tr>\n",
       "      <th>1</th>\n",
       "      <td>0.1</td>\n",
       "      <td>5</td>\n",
       "      <td>bi_obj_half_edit_beta/w=0.1 gamma=5</td>\n",
       "      <td>651.769231</td>\n",
       "      <td>174.126656</td>\n",
       "      <td>1480.0</td>\n",
       "      <td>1654.126656</td>\n",
       "      <td>0.394026</td>\n",
       "    </tr>\n",
       "    <tr>\n",
       "      <th>4</th>\n",
       "      <td>0.4</td>\n",
       "      <td>5</td>\n",
       "      <td>bi_obj_half_edit_beta/w=0.4 gamma=5</td>\n",
       "      <td>653.307692</td>\n",
       "      <td>179.651524</td>\n",
       "      <td>1480.0</td>\n",
       "      <td>1659.651524</td>\n",
       "      <td>0.393641</td>\n",
       "    </tr>\n",
       "    <tr>\n",
       "      <th>5</th>\n",
       "      <td>0.5</td>\n",
       "      <td>5</td>\n",
       "      <td>bi_obj_half_edit_beta/w=0.5 gamma=5</td>\n",
       "      <td>653.307692</td>\n",
       "      <td>179.651524</td>\n",
       "      <td>1480.0</td>\n",
       "      <td>1659.651524</td>\n",
       "      <td>0.393641</td>\n",
       "    </tr>\n",
       "    <tr>\n",
       "      <th>6</th>\n",
       "      <td>0.6</td>\n",
       "      <td>5</td>\n",
       "      <td>bi_obj_half_edit_beta/w=0.6000000000000001 gam...</td>\n",
       "      <td>653.307692</td>\n",
       "      <td>179.660565</td>\n",
       "      <td>1480.0</td>\n",
       "      <td>1659.660565</td>\n",
       "      <td>0.393639</td>\n",
       "    </tr>\n",
       "    <tr>\n",
       "      <th>0</th>\n",
       "      <td>0.0</td>\n",
       "      <td>5</td>\n",
       "      <td>bi_obj_half_edit_beta/w=0.0 gamma=5</td>\n",
       "      <td>649.461538</td>\n",
       "      <td>172.711781</td>\n",
       "      <td>1480.0</td>\n",
       "      <td>1652.711781</td>\n",
       "      <td>0.392967</td>\n",
       "    </tr>\n",
       "    <tr>\n",
       "      <th>14</th>\n",
       "      <td>0.3</td>\n",
       "      <td>9</td>\n",
       "      <td>bi_obj_half_edit_beta/w=0.30000000000000004 ga...</td>\n",
       "      <td>652.076923</td>\n",
       "      <td>196.158994</td>\n",
       "      <td>1480.0</td>\n",
       "      <td>1676.158994</td>\n",
       "      <td>0.389030</td>\n",
       "    </tr>\n",
       "    <tr>\n",
       "      <th>13</th>\n",
       "      <td>0.2</td>\n",
       "      <td>9</td>\n",
       "      <td>bi_obj_half_edit_beta/w=0.2 gamma=9</td>\n",
       "      <td>651.769231</td>\n",
       "      <td>195.452701</td>\n",
       "      <td>1480.0</td>\n",
       "      <td>1675.452701</td>\n",
       "      <td>0.389011</td>\n",
       "    </tr>\n",
       "    <tr>\n",
       "      <th>15</th>\n",
       "      <td>0.4</td>\n",
       "      <td>9</td>\n",
       "      <td>bi_obj_half_edit_beta/w=0.4 gamma=9</td>\n",
       "      <td>652.692308</td>\n",
       "      <td>199.103677</td>\n",
       "      <td>1480.0</td>\n",
       "      <td>1679.103677</td>\n",
       "      <td>0.388715</td>\n",
       "    </tr>\n",
       "    <tr>\n",
       "      <th>16</th>\n",
       "      <td>0.5</td>\n",
       "      <td>9</td>\n",
       "      <td>bi_obj_half_edit_beta/w=0.5 gamma=9</td>\n",
       "      <td>653.307692</td>\n",
       "      <td>202.274159</td>\n",
       "      <td>1480.0</td>\n",
       "      <td>1682.274159</td>\n",
       "      <td>0.388348</td>\n",
       "    </tr>\n",
       "    <tr>\n",
       "      <th>17</th>\n",
       "      <td>0.6</td>\n",
       "      <td>9</td>\n",
       "      <td>bi_obj_half_edit_beta/w=0.6000000000000001 gam...</td>\n",
       "      <td>653.307692</td>\n",
       "      <td>202.279597</td>\n",
       "      <td>1480.0</td>\n",
       "      <td>1682.279597</td>\n",
       "      <td>0.388347</td>\n",
       "    </tr>\n",
       "    <tr>\n",
       "      <th>12</th>\n",
       "      <td>0.1</td>\n",
       "      <td>9</td>\n",
       "      <td>bi_obj_half_edit_beta/w=0.1 gamma=9</td>\n",
       "      <td>649.923077</td>\n",
       "      <td>193.838630</td>\n",
       "      <td>1480.0</td>\n",
       "      <td>1673.838630</td>\n",
       "      <td>0.388283</td>\n",
       "    </tr>\n",
       "    <tr>\n",
       "      <th>11</th>\n",
       "      <td>0.0</td>\n",
       "      <td>9</td>\n",
       "      <td>bi_obj_half_edit_beta/w=0.0 gamma=9</td>\n",
       "      <td>648.846154</td>\n",
       "      <td>193.561815</td>\n",
       "      <td>1480.0</td>\n",
       "      <td>1673.561815</td>\n",
       "      <td>0.387704</td>\n",
       "    </tr>\n",
       "    <tr>\n",
       "      <th>7</th>\n",
       "      <td>0.7</td>\n",
       "      <td>5</td>\n",
       "      <td>bi_obj_half_edit_beta/w=0.7000000000000001 gam...</td>\n",
       "      <td>656.692308</td>\n",
       "      <td>190.268613</td>\n",
       "      <td>1518.0</td>\n",
       "      <td>1708.268613</td>\n",
       "      <td>0.384420</td>\n",
       "    </tr>\n",
       "    <tr>\n",
       "      <th>18</th>\n",
       "      <td>0.7</td>\n",
       "      <td>9</td>\n",
       "      <td>bi_obj_half_edit_beta/w=0.7000000000000001 gam...</td>\n",
       "      <td>656.692308</td>\n",
       "      <td>213.839829</td>\n",
       "      <td>1518.0</td>\n",
       "      <td>1731.839829</td>\n",
       "      <td>0.379188</td>\n",
       "    </tr>\n",
       "    <tr>\n",
       "      <th>8</th>\n",
       "      <td>0.8</td>\n",
       "      <td>5</td>\n",
       "      <td>bi_obj_half_edit_beta/w=0.8 gamma=5</td>\n",
       "      <td>662.384615</td>\n",
       "      <td>198.579745</td>\n",
       "      <td>1646.0</td>\n",
       "      <td>1844.579745</td>\n",
       "      <td>0.359098</td>\n",
       "    </tr>\n",
       "    <tr>\n",
       "      <th>19</th>\n",
       "      <td>0.8</td>\n",
       "      <td>9</td>\n",
       "      <td>bi_obj_half_edit_beta/w=0.8 gamma=9</td>\n",
       "      <td>662.538462</td>\n",
       "      <td>224.810198</td>\n",
       "      <td>1650.0</td>\n",
       "      <td>1874.810198</td>\n",
       "      <td>0.353390</td>\n",
       "    </tr>\n",
       "    <tr>\n",
       "      <th>9</th>\n",
       "      <td>0.9</td>\n",
       "      <td>5</td>\n",
       "      <td>bi_obj_half_edit_beta/w=0.9 gamma=5</td>\n",
       "      <td>673.461538</td>\n",
       "      <td>197.657796</td>\n",
       "      <td>2206.0</td>\n",
       "      <td>2403.657796</td>\n",
       "      <td>0.280182</td>\n",
       "    </tr>\n",
       "    <tr>\n",
       "      <th>20</th>\n",
       "      <td>0.9</td>\n",
       "      <td>9</td>\n",
       "      <td>bi_obj_half_edit_beta/w=0.9 gamma=9</td>\n",
       "      <td>673.461538</td>\n",
       "      <td>224.325367</td>\n",
       "      <td>2206.0</td>\n",
       "      <td>2430.325367</td>\n",
       "      <td>0.277108</td>\n",
       "    </tr>\n",
       "    <tr>\n",
       "      <th>10</th>\n",
       "      <td>1.0</td>\n",
       "      <td>5</td>\n",
       "      <td>bi_obj_half_edit_beta/w=1.0 gamma=5</td>\n",
       "      <td>697.153846</td>\n",
       "      <td>191.994383</td>\n",
       "      <td>10380.0</td>\n",
       "      <td>10571.994383</td>\n",
       "      <td>0.065943</td>\n",
       "    </tr>\n",
       "    <tr>\n",
       "      <th>21</th>\n",
       "      <td>1.0</td>\n",
       "      <td>9</td>\n",
       "      <td>bi_obj_half_edit_beta/w=1.0 gamma=9</td>\n",
       "      <td>697.153846</td>\n",
       "      <td>221.864779</td>\n",
       "      <td>10380.0</td>\n",
       "      <td>10601.864779</td>\n",
       "      <td>0.065758</td>\n",
       "    </tr>\n",
       "  </tbody>\n",
       "</table>\n",
       "</div>"
      ],
      "text/plain": [
       "      w  gamma                                          save_path      profit  \\\n",
       "3   0.3      5  bi_obj_half_edit_beta/w=0.30000000000000004 ga...  652.076923   \n",
       "2   0.2      5                bi_obj_half_edit_beta/w=0.2 gamma=5  651.769231   \n",
       "1   0.1      5                bi_obj_half_edit_beta/w=0.1 gamma=5  651.769231   \n",
       "4   0.4      5                bi_obj_half_edit_beta/w=0.4 gamma=5  653.307692   \n",
       "5   0.5      5                bi_obj_half_edit_beta/w=0.5 gamma=5  653.307692   \n",
       "6   0.6      5  bi_obj_half_edit_beta/w=0.6000000000000001 gam...  653.307692   \n",
       "0   0.0      5                bi_obj_half_edit_beta/w=0.0 gamma=5  649.461538   \n",
       "14  0.3      9  bi_obj_half_edit_beta/w=0.30000000000000004 ga...  652.076923   \n",
       "13  0.2      9                bi_obj_half_edit_beta/w=0.2 gamma=9  651.769231   \n",
       "15  0.4      9                bi_obj_half_edit_beta/w=0.4 gamma=9  652.692308   \n",
       "16  0.5      9                bi_obj_half_edit_beta/w=0.5 gamma=9  653.307692   \n",
       "17  0.6      9  bi_obj_half_edit_beta/w=0.6000000000000001 gam...  653.307692   \n",
       "12  0.1      9                bi_obj_half_edit_beta/w=0.1 gamma=9  649.923077   \n",
       "11  0.0      9                bi_obj_half_edit_beta/w=0.0 gamma=9  648.846154   \n",
       "7   0.7      5  bi_obj_half_edit_beta/w=0.7000000000000001 gam...  656.692308   \n",
       "18  0.7      9  bi_obj_half_edit_beta/w=0.7000000000000001 gam...  656.692308   \n",
       "8   0.8      5                bi_obj_half_edit_beta/w=0.8 gamma=5  662.384615   \n",
       "19  0.8      9                bi_obj_half_edit_beta/w=0.8 gamma=9  662.538462   \n",
       "9   0.9      5                bi_obj_half_edit_beta/w=0.9 gamma=5  673.461538   \n",
       "20  0.9      9                bi_obj_half_edit_beta/w=0.9 gamma=9  673.461538   \n",
       "10  1.0      5                bi_obj_half_edit_beta/w=1.0 gamma=5  697.153846   \n",
       "21  1.0      9                bi_obj_half_edit_beta/w=1.0 gamma=9  697.153846   \n",
       "\n",
       "    location_risk  distancing_risk    total_risk  PR_Ratio  \n",
       "3      174.756885           1480.0   1654.756885  0.394062  \n",
       "2      174.126656           1480.0   1654.126656  0.394026  \n",
       "1      174.126656           1480.0   1654.126656  0.394026  \n",
       "4      179.651524           1480.0   1659.651524  0.393641  \n",
       "5      179.651524           1480.0   1659.651524  0.393641  \n",
       "6      179.660565           1480.0   1659.660565  0.393639  \n",
       "0      172.711781           1480.0   1652.711781  0.392967  \n",
       "14     196.158994           1480.0   1676.158994  0.389030  \n",
       "13     195.452701           1480.0   1675.452701  0.389011  \n",
       "15     199.103677           1480.0   1679.103677  0.388715  \n",
       "16     202.274159           1480.0   1682.274159  0.388348  \n",
       "17     202.279597           1480.0   1682.279597  0.388347  \n",
       "12     193.838630           1480.0   1673.838630  0.388283  \n",
       "11     193.561815           1480.0   1673.561815  0.387704  \n",
       "7      190.268613           1518.0   1708.268613  0.384420  \n",
       "18     213.839829           1518.0   1731.839829  0.379188  \n",
       "8      198.579745           1646.0   1844.579745  0.359098  \n",
       "19     224.810198           1650.0   1874.810198  0.353390  \n",
       "9      197.657796           2206.0   2403.657796  0.280182  \n",
       "20     224.325367           2206.0   2430.325367  0.277108  \n",
       "10     191.994383          10380.0  10571.994383  0.065943  \n",
       "21     221.864779          10380.0  10601.864779  0.065758  "
      ]
     },
     "execution_count": 78,
     "metadata": {},
     "output_type": "execute_result"
    }
   ],
   "source": [
    "results_df.sort_values(by='PR_Ratio',ascending=False)"
   ]
  },
  {
   "cell_type": "code",
   "execution_count": 79,
   "id": "33198026",
   "metadata": {},
   "outputs": [
    {
     "data": {
      "text/plain": [
       "'bi_obj_half_edit_beta/w=0.30000000000000004 gamma=5'"
      ]
     },
     "execution_count": 79,
     "metadata": {},
     "output_type": "execute_result"
    }
   ],
   "source": [
    "results_df.sort_values(by='PR_Ratio',ascending=False).iloc[0]['save_path']"
   ]
  },
  {
   "cell_type": "code",
   "execution_count": 80,
   "id": "226a62bd",
   "metadata": {},
   "outputs": [
    {
     "data": {
      "text/html": [
       "<div>\n",
       "<style scoped>\n",
       "    .dataframe tbody tr th:only-of-type {\n",
       "        vertical-align: middle;\n",
       "    }\n",
       "\n",
       "    .dataframe tbody tr th {\n",
       "        vertical-align: top;\n",
       "    }\n",
       "\n",
       "    .dataframe thead th {\n",
       "        text-align: right;\n",
       "    }\n",
       "</style>\n",
       "<table border=\"1\" class=\"dataframe\">\n",
       "  <thead>\n",
       "    <tr style=\"text-align: right;\">\n",
       "      <th></th>\n",
       "      <th>profit</th>\n",
       "      <th>total_risk</th>\n",
       "      <th>PR_Ratio</th>\n",
       "    </tr>\n",
       "    <tr>\n",
       "      <th>w</th>\n",
       "      <th></th>\n",
       "      <th></th>\n",
       "      <th></th>\n",
       "    </tr>\n",
       "  </thead>\n",
       "  <tbody>\n",
       "    <tr>\n",
       "      <th>0.3</th>\n",
       "      <td>652.076923</td>\n",
       "      <td>1654.756885</td>\n",
       "      <td>0.394062</td>\n",
       "    </tr>\n",
       "    <tr>\n",
       "      <th>0.2</th>\n",
       "      <td>651.769231</td>\n",
       "      <td>1654.126656</td>\n",
       "      <td>0.394026</td>\n",
       "    </tr>\n",
       "    <tr>\n",
       "      <th>0.1</th>\n",
       "      <td>651.769231</td>\n",
       "      <td>1654.126656</td>\n",
       "      <td>0.394026</td>\n",
       "    </tr>\n",
       "    <tr>\n",
       "      <th>0.4</th>\n",
       "      <td>653.307692</td>\n",
       "      <td>1659.651524</td>\n",
       "      <td>0.393641</td>\n",
       "    </tr>\n",
       "    <tr>\n",
       "      <th>0.5</th>\n",
       "      <td>653.307692</td>\n",
       "      <td>1659.651524</td>\n",
       "      <td>0.393641</td>\n",
       "    </tr>\n",
       "    <tr>\n",
       "      <th>0.6</th>\n",
       "      <td>653.307692</td>\n",
       "      <td>1659.660565</td>\n",
       "      <td>0.393639</td>\n",
       "    </tr>\n",
       "    <tr>\n",
       "      <th>0.0</th>\n",
       "      <td>649.461538</td>\n",
       "      <td>1652.711781</td>\n",
       "      <td>0.392967</td>\n",
       "    </tr>\n",
       "    <tr>\n",
       "      <th>0.3</th>\n",
       "      <td>652.076923</td>\n",
       "      <td>1676.158994</td>\n",
       "      <td>0.389030</td>\n",
       "    </tr>\n",
       "    <tr>\n",
       "      <th>0.2</th>\n",
       "      <td>651.769231</td>\n",
       "      <td>1675.452701</td>\n",
       "      <td>0.389011</td>\n",
       "    </tr>\n",
       "    <tr>\n",
       "      <th>0.4</th>\n",
       "      <td>652.692308</td>\n",
       "      <td>1679.103677</td>\n",
       "      <td>0.388715</td>\n",
       "    </tr>\n",
       "    <tr>\n",
       "      <th>0.5</th>\n",
       "      <td>653.307692</td>\n",
       "      <td>1682.274159</td>\n",
       "      <td>0.388348</td>\n",
       "    </tr>\n",
       "    <tr>\n",
       "      <th>0.6</th>\n",
       "      <td>653.307692</td>\n",
       "      <td>1682.279597</td>\n",
       "      <td>0.388347</td>\n",
       "    </tr>\n",
       "    <tr>\n",
       "      <th>0.1</th>\n",
       "      <td>649.923077</td>\n",
       "      <td>1673.838630</td>\n",
       "      <td>0.388283</td>\n",
       "    </tr>\n",
       "    <tr>\n",
       "      <th>0.0</th>\n",
       "      <td>648.846154</td>\n",
       "      <td>1673.561815</td>\n",
       "      <td>0.387704</td>\n",
       "    </tr>\n",
       "    <tr>\n",
       "      <th>0.7</th>\n",
       "      <td>656.692308</td>\n",
       "      <td>1708.268613</td>\n",
       "      <td>0.384420</td>\n",
       "    </tr>\n",
       "    <tr>\n",
       "      <th>0.7</th>\n",
       "      <td>656.692308</td>\n",
       "      <td>1731.839829</td>\n",
       "      <td>0.379188</td>\n",
       "    </tr>\n",
       "    <tr>\n",
       "      <th>0.8</th>\n",
       "      <td>662.384615</td>\n",
       "      <td>1844.579745</td>\n",
       "      <td>0.359098</td>\n",
       "    </tr>\n",
       "    <tr>\n",
       "      <th>0.8</th>\n",
       "      <td>662.538462</td>\n",
       "      <td>1874.810198</td>\n",
       "      <td>0.353390</td>\n",
       "    </tr>\n",
       "    <tr>\n",
       "      <th>0.9</th>\n",
       "      <td>673.461538</td>\n",
       "      <td>2403.657796</td>\n",
       "      <td>0.280182</td>\n",
       "    </tr>\n",
       "    <tr>\n",
       "      <th>0.9</th>\n",
       "      <td>673.461538</td>\n",
       "      <td>2430.325367</td>\n",
       "      <td>0.277108</td>\n",
       "    </tr>\n",
       "    <tr>\n",
       "      <th>1.0</th>\n",
       "      <td>697.153846</td>\n",
       "      <td>10571.994383</td>\n",
       "      <td>0.065943</td>\n",
       "    </tr>\n",
       "    <tr>\n",
       "      <th>1.0</th>\n",
       "      <td>697.153846</td>\n",
       "      <td>10601.864779</td>\n",
       "      <td>0.065758</td>\n",
       "    </tr>\n",
       "  </tbody>\n",
       "</table>\n",
       "</div>"
      ],
      "text/plain": [
       "         profit    total_risk  PR_Ratio\n",
       "w                                      \n",
       "0.3  652.076923   1654.756885  0.394062\n",
       "0.2  651.769231   1654.126656  0.394026\n",
       "0.1  651.769231   1654.126656  0.394026\n",
       "0.4  653.307692   1659.651524  0.393641\n",
       "0.5  653.307692   1659.651524  0.393641\n",
       "0.6  653.307692   1659.660565  0.393639\n",
       "0.0  649.461538   1652.711781  0.392967\n",
       "0.3  652.076923   1676.158994  0.389030\n",
       "0.2  651.769231   1675.452701  0.389011\n",
       "0.4  652.692308   1679.103677  0.388715\n",
       "0.5  653.307692   1682.274159  0.388348\n",
       "0.6  653.307692   1682.279597  0.388347\n",
       "0.1  649.923077   1673.838630  0.388283\n",
       "0.0  648.846154   1673.561815  0.387704\n",
       "0.7  656.692308   1708.268613  0.384420\n",
       "0.7  656.692308   1731.839829  0.379188\n",
       "0.8  662.384615   1844.579745  0.359098\n",
       "0.8  662.538462   1874.810198  0.353390\n",
       "0.9  673.461538   2403.657796  0.280182\n",
       "0.9  673.461538   2430.325367  0.277108\n",
       "1.0  697.153846  10571.994383  0.065943\n",
       "1.0  697.153846  10601.864779  0.065758"
      ]
     },
     "execution_count": 80,
     "metadata": {},
     "output_type": "execute_result"
    }
   ],
   "source": [
    "results_df.sort_values(by='PR_Ratio',ascending=False)[['w','profit','total_risk','PR_Ratio']].set_index('w')"
   ]
  }
 ],
 "metadata": {
  "kernelspec": {
   "display_name": "Python 3",
   "language": "python",
   "name": "python3"
  },
  "language_info": {
   "codemirror_mode": {
    "name": "ipython",
    "version": 3
   },
   "file_extension": ".py",
   "mimetype": "text/x-python",
   "name": "python",
   "nbconvert_exporter": "python",
   "pygments_lexer": "ipython3",
   "version": "3.8.8"
  },
  "toc": {
   "base_numbering": 1,
   "nav_menu": {},
   "number_sections": true,
   "sideBar": true,
   "skip_h1_title": true,
   "title_cell": "Table of Contents",
   "title_sidebar": "Contents",
   "toc_cell": true,
   "toc_position": {
    "height": "calc(100% - 180px)",
    "left": "10px",
    "top": "150px",
    "width": "257.531px"
   },
   "toc_section_display": true,
   "toc_window_display": false
  }
 },
 "nbformat": 4,
 "nbformat_minor": 5
}
