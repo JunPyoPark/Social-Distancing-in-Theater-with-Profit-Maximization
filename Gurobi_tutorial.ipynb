{
 "cells": [
  {
   "cell_type": "markdown",
   "id": "4e35a0f1",
   "metadata": {},
   "source": [
    "# 최적화(Optimization) 문제 풀이를 위한 GUROBI solver 사용하기"
   ]
  },
  {
   "cell_type": "markdown",
   "id": "78549dcd",
   "metadata": {},
   "source": [
    "<div style=\"text-align: right\"> Written by JunPyo Park </div>"
   ]
  },
  {
   "cell_type": "markdown",
   "id": "46b68754",
   "metadata": {},
   "source": [
    "* 최적화(Optimization) 문제를 풀기 위한 솔버 중 하나인 GUROBI 사용법을 간단하게 정리해 보았습니다.\n",
    "* 사용 후기: 규모가 큰 문제를 풀려면 라이센스가 필요합니다. 학교 다니시면 아카데믹 라이센스 무료로 이용가능합니다."
   ]
  },
  {
   "cell_type": "markdown",
   "id": "00228d0c",
   "metadata": {},
   "source": [
    "**Reference**\n",
    "* [GUROBI Python Documentation](https://www.gurobi.com/documentation/9.1/quickstart_windows/cs_python.html#section:Python)\n",
    "* [GUROBI Tutorial Slide](https://pages.gurobi.com/rs/181-ZYS-005/images/Videos-MIP-v18.pdf)\n",
    "* [Introduction to Mathematical Optimization Modeling](https://colab.research.google.com/github/Gurobi/modeling-examples/blob/master/intro_to_modeling/introduction_to_modeling_gcl.ipynb)\n",
    "---"
   ]
  },
  {
   "cell_type": "markdown",
   "id": "82fc443c",
   "metadata": {
    "toc": true
   },
   "source": [
    "<h1>Table of Contents<span class=\"tocSkip\"></span></h1>\n",
    "<div class=\"toc\"><ul class=\"toc-item\"><li><span><a href=\"#Installation\" data-toc-modified-id=\"Installation-1\"><span class=\"toc-item-num\">1&nbsp;&nbsp;</span>Installation</a></span></li><li><span><a href=\"#Simple-MIP(MIxed-Integer-Linear-Programmin)-Example\" data-toc-modified-id=\"Simple-MIP(MIxed-Integer-Linear-Programmin)-Example-2\"><span class=\"toc-item-num\">2&nbsp;&nbsp;</span>Simple MIP(MIxed Integer Linear Programmin) Example</a></span><ul class=\"toc-item\"><li><span><a href=\"#Objective-(최적-문제의-목적식)\" data-toc-modified-id=\"Objective-(최적-문제의-목적식)-2.1\"><span class=\"toc-item-num\">2.1&nbsp;&nbsp;</span>Objective (최적 문제의 목적식)</a></span></li><li><span><a href=\"#Constraints-(제약식)\" data-toc-modified-id=\"Constraints-(제약식)-2.2\"><span class=\"toc-item-num\">2.2&nbsp;&nbsp;</span>Constraints (제약식)</a></span></li><li><span><a href=\"#전체-코드\" data-toc-modified-id=\"전체-코드-2.3\"><span class=\"toc-item-num\">2.3&nbsp;&nbsp;</span>전체 코드</a></span></li><li><span><a href=\"#모델(최적화-문제)-생성\" data-toc-modified-id=\"모델(최적화-문제)-생성-2.4\"><span class=\"toc-item-num\">2.4&nbsp;&nbsp;</span>모델(최적화 문제) 생성</a></span></li><li><span><a href=\"#모델에-변수-추가-하기\" data-toc-modified-id=\"모델에-변수-추가-하기-2.5\"><span class=\"toc-item-num\">2.5&nbsp;&nbsp;</span>모델에 변수 추가 하기</a></span></li><li><span><a href=\"#목적식(objective)-세팅\" data-toc-modified-id=\"목적식(objective)-세팅-2.6\"><span class=\"toc-item-num\">2.6&nbsp;&nbsp;</span>목적식(objective) 세팅</a></span></li><li><span><a href=\"#제약식(constraints)-추가\" data-toc-modified-id=\"제약식(constraints)-추가-2.7\"><span class=\"toc-item-num\">2.7&nbsp;&nbsp;</span>제약식(constraints) 추가</a></span></li><li><span><a href=\"#모델-최적화\" data-toc-modified-id=\"모델-최적화-2.8\"><span class=\"toc-item-num\">2.8&nbsp;&nbsp;</span>모델 최적화</a></span></li><li><span><a href=\"#결과-분석\" data-toc-modified-id=\"결과-분석-2.9\"><span class=\"toc-item-num\">2.9&nbsp;&nbsp;</span>결과 분석</a></span></li></ul></li><li><span><a href=\"#Consulting-Company-Problem\" data-toc-modified-id=\"Consulting-Company-Problem-3\"><span class=\"toc-item-num\">3&nbsp;&nbsp;</span>Consulting Company Problem</a></span><ul class=\"toc-item\"><li><span><a href=\"#Problem-Description\" data-toc-modified-id=\"Problem-Description-3.1\"><span class=\"toc-item-num\">3.1&nbsp;&nbsp;</span>Problem Description</a></span></li><li><span><a href=\"#Data\" data-toc-modified-id=\"Data-3.2\"><span class=\"toc-item-num\">3.2&nbsp;&nbsp;</span>Data</a></span></li><li><span><a href=\"#Decision-Variables\" data-toc-modified-id=\"Decision-Variables-3.3\"><span class=\"toc-item-num\">3.3&nbsp;&nbsp;</span>Decision Variables</a></span></li><li><span><a href=\"#Job-constraints\" data-toc-modified-id=\"Job-constraints-3.4\"><span class=\"toc-item-num\">3.4&nbsp;&nbsp;</span>Job constraints</a></span></li><li><span><a href=\"#Resource-constraints\" data-toc-modified-id=\"Resource-constraints-3.5\"><span class=\"toc-item-num\">3.5&nbsp;&nbsp;</span>Resource constraints</a></span></li><li><span><a href=\"#Objective-function\" data-toc-modified-id=\"Objective-function-3.6\"><span class=\"toc-item-num\">3.6&nbsp;&nbsp;</span>Objective function</a></span></li></ul></li></ul></div>"
   ]
  },
  {
   "cell_type": "markdown",
   "id": "50986635",
   "metadata": {},
   "source": [
    "## Installation"
   ]
  },
  {
   "cell_type": "markdown",
   "id": "ac44476e",
   "metadata": {},
   "source": [
    "```\n",
    "pip install gurobipy\n",
    "```"
   ]
  },
  {
   "cell_type": "markdown",
   "id": "5b34bf67",
   "metadata": {},
   "source": [
    "## Simple MIP(MIxed Integer Linear Programmin) Example"
   ]
  },
  {
   "cell_type": "markdown",
   "id": "d6577af3",
   "metadata": {},
   "source": [
    "### Objective (최적 문제의 목적식)\n",
    "\n",
    "$\\text{Maximize}$ <br>\n",
    "        $x +   y + 2 z$  <br>\n",
    "        \n",
    "### Constraints (제약식)\n",
    "\n",
    "$\\text{subject to}$ <br>\n",
    "        $x + 2 y + 3 z <= 4$ <br>\n",
    "        $x +   y       >= 1$ <br>\n",
    "        $x, y, z$ $\\text{binary}$ <br>"
   ]
  },
  {
   "cell_type": "markdown",
   "id": "2b8e928a",
   "metadata": {},
   "source": [
    "x,y,z 가 0,1 값을 가지는 binary 형태이고 목적식과 제약식이 모두 linear 하기에 위 문제는 MIP라고 불립니다."
   ]
  },
  {
   "cell_type": "markdown",
   "id": "8fbb5240",
   "metadata": {},
   "source": [
    "### 전체 코드"
   ]
  },
  {
   "cell_type": "markdown",
   "id": "4413d4ed",
   "metadata": {},
   "source": [
    "밑에 부분별 설명이 있습니다."
   ]
  },
  {
   "cell_type": "code",
   "execution_count": 65,
   "id": "a96a11ff",
   "metadata": {},
   "outputs": [],
   "source": [
    "import gurobipy as gp\n",
    "from gurobipy import GRB"
   ]
  },
  {
   "cell_type": "code",
   "execution_count": 68,
   "id": "f7e3b3c7",
   "metadata": {},
   "outputs": [
    {
     "name": "stdout",
     "output_type": "stream",
     "text": [
      "Gurobi Optimizer version 9.1.2 build v9.1.2rc0 (win64)\n",
      "Thread count: 8 physical cores, 16 logical processors, using up to 16 threads\n",
      "Optimize a model with 2 rows, 3 columns and 5 nonzeros\n",
      "Model fingerprint: 0x98886187\n",
      "Variable types: 0 continuous, 3 integer (3 binary)\n",
      "Coefficient statistics:\n",
      "  Matrix range     [1e+00, 3e+00]\n",
      "  Objective range  [1e+00, 2e+00]\n",
      "  Bounds range     [1e+00, 1e+00]\n",
      "  RHS range        [1e+00, 4e+00]\n",
      "Found heuristic solution: objective 2.0000000\n",
      "Presolve removed 2 rows and 3 columns\n",
      "Presolve time: 0.00s\n",
      "Presolve: All rows and columns removed\n",
      "\n",
      "Explored 0 nodes (0 simplex iterations) in 0.00 seconds\n",
      "Thread count was 1 (of 16 available processors)\n",
      "\n",
      "Solution count 2: 3 2 \n",
      "\n",
      "Optimal solution found (tolerance 1.00e-04)\n",
      "Best objective 3.000000000000e+00, best bound 3.000000000000e+00, gap 0.0000%\n",
      "x 1\n",
      "y 0\n",
      "z 1\n",
      "Obj: 3\n"
     ]
    }
   ],
   "source": [
    "try:\n",
    "\n",
    "    # Create a new model\n",
    "    m = gp.Model(\"mip1\")\n",
    "\n",
    "    # Create variables\n",
    "    x = m.addVar(vtype=GRB.BINARY, name=\"x\")\n",
    "    y = m.addVar(vtype=GRB.BINARY, name=\"y\")\n",
    "    z = m.addVar(vtype=GRB.BINARY, name=\"z\")\n",
    "\n",
    "    # Set objective\n",
    "    m.setObjective(x + y + 2 * z, GRB.MAXIMIZE)\n",
    "\n",
    "    # Add constraint: x + 2 y + 3 z <= 4\n",
    "    # m.addConstr(x + 2 * y + 3 * z <= 4, \"c0\")\n",
    "    constr = gp.LinExpr()\n",
    "    constr += x\n",
    "    constr += 2 * y\n",
    "    constr += 3 * z\n",
    "    constr\n",
    "    m.addConstr(constr <= 4, \"c0\")\n",
    "\n",
    "    # Add constraint: x + y >= 1\n",
    "    m.addConstr(x + y >= 1, \"c1\")\n",
    "\n",
    "    # Optimize model\n",
    "    m.optimize()\n",
    "\n",
    "    for v in m.getVars():\n",
    "        print('%s %g' % (v.varName, v.x))\n",
    "\n",
    "    print('Obj: %g' % m.objVal)\n",
    "\n",
    "except gp.GurobiError as e:\n",
    "    print('Error code ' + str(e.errno) + ': ' + str(e))\n",
    "\n",
    "except AttributeError:\n",
    "    print('Encountered an attribute error')"
   ]
  },
  {
   "cell_type": "markdown",
   "id": "408d83de",
   "metadata": {},
   "source": [
    "### 모델(최적화 문제) 생성"
   ]
  },
  {
   "cell_type": "markdown",
   "id": "a856d5d1",
   "metadata": {},
   "source": [
    "```python\n",
    "# Create a new model\n",
    "m = gp.Model(\"mip1\")\n",
    "```"
   ]
  },
  {
   "cell_type": "markdown",
   "id": "38b95697",
   "metadata": {},
   "source": [
    "모델에 하나의 최적화 문제 배정. 모델은 변수들과 constraint들 그리고 최적화 문제와 관련된 attribute(변수 범위, 변수 타입, 목적식의 계수 등)들로 구성"
   ]
  },
  {
   "cell_type": "markdown",
   "id": "717b8348",
   "metadata": {},
   "source": [
    "### 모델에 변수 추가 하기"
   ]
  },
  {
   "cell_type": "markdown",
   "id": "ee75cae4",
   "metadata": {},
   "source": [
    "```python\n",
    "# Create binary variable\n",
    "x = m.addVar(vtype=GRB.BINARY, name=\"x\")\n",
    "```"
   ]
  },
  {
   "cell_type": "markdown",
   "id": "614863f9",
   "metadata": {},
   "source": [
    "`model.addVar()` 메서드를 통해 모델에 변수를 추가 가능합니다. 어레이 같은 구조를 통해 여러 변수를 한번에 추가하려면 `addVars()` 메서드를 사용하면 됩니다."
   ]
  },
  {
   "cell_type": "code",
   "execution_count": 57,
   "id": "4694a52d",
   "metadata": {},
   "outputs": [
    {
     "name": "stdout",
     "output_type": "stream",
     "text": [
      "Help on method addVar in module gurobipy:\n",
      "\n",
      "addVar(lb=0.0, ub=1e+100, obj=0.0, vtype='C', name='', column=None) method of gurobipy.Model instance\n",
      "    ROUTINE:\n",
      "      addVar(lb, ub, obj, vtype, name, column)\n",
      "    \n",
      "    PURPOSE:\n",
      "      Add a variable to the model.\n",
      "    \n",
      "    ARGUMENTS:\n",
      "      lb (float): Lower bound (default is zero)\n",
      "      ub (float): Upper bound (default is infinite)\n",
      "      obj (float): Objective coefficient (default is zero)\n",
      "      vtype (string): Variable type (default is GRB.CONTINUOUS)\n",
      "      name (string): Variable name (default is no name)\n",
      "      column (Column): Initial coefficients for column (default is None)\n",
      "    \n",
      "    RETURN VALUE:\n",
      "      The created Var object.\n",
      "    \n",
      "    EXAMPLE:\n",
      "      v = model.addVar(ub=2.0, name=\"NewVar\")\n",
      "\n"
     ]
    }
   ],
   "source": [
    "help(m.addVar)"
   ]
  },
  {
   "cell_type": "markdown",
   "id": "3bc40b04",
   "metadata": {},
   "source": [
    "### 목적식(objective) 세팅"
   ]
  },
  {
   "cell_type": "markdown",
   "id": "2ab25075",
   "metadata": {},
   "source": [
    "**Maximize** <br>\n",
    "        $x +   y + 2 z$  <br>"
   ]
  },
  {
   "cell_type": "markdown",
   "id": "0148b4f7",
   "metadata": {},
   "source": [
    "```python\n",
    "# Set objective\n",
    "m.setObjective(x + y + 2 * z, GRB.MAXIMIZE)\n",
    "   ```"
   ]
  },
  {
   "cell_type": "markdown",
   "id": "2adf54b5",
   "metadata": {},
   "source": [
    "식이 복잡할 경우 아래와 같이 단계적으로(incrementally) 수식 표현 가능 "
   ]
  },
  {
   "cell_type": "markdown",
   "id": "01185b81",
   "metadata": {},
   "source": [
    "```python\n",
    "obj = gp.LinExpr()\n",
    "obj += x\n",
    "obj += y\n",
    "obj += 2*z\n",
    "m.setObjective(obj, GRB.MAXIMIZE)\n",
    "```"
   ]
  },
  {
   "cell_type": "markdown",
   "id": "aa0d3b21",
   "metadata": {},
   "source": [
    "### 제약식(constraints) 추가"
   ]
  },
  {
   "cell_type": "markdown",
   "id": "a94708ae",
   "metadata": {},
   "source": [
    "```python\n",
    "# Add constraint: x + 2 y + 3 z <= 4\n",
    "m.addConstr(x + 2 * y + 3 * z <= 4, \"c0\")\n",
    "```"
   ]
  },
  {
   "cell_type": "markdown",
   "id": "87d3fc1f",
   "metadata": {},
   "source": [
    "* `model.addConstr()` 메서드를 통해 제약식 추가 가능 \n",
    "* 두번째 arg(`\"c0\"`)는 제약식의 이름 \n",
    "* 식이 복잡할 경우 위의 <a href=\"#목적식(objective)-세팅\" data-toc-modified-id=\"목적식(objective)-세팅-2.3\"><span class=\"toc-item-num\"></span>2.3</a>과 같이 incrementally 추가 가능\n",
    "* [addConstrs()](https://www.gurobi.com/documentation/9.1/refman/py_model_addconstrs.html) 를 사용해서 여러 제약식 한번에 추가 가능"
   ]
  },
  {
   "cell_type": "markdown",
   "id": "4ab933f4",
   "metadata": {},
   "source": [
    "### 모델 최적화"
   ]
  },
  {
   "cell_type": "markdown",
   "id": "4bd46024",
   "metadata": {},
   "source": [
    "```python\n",
    "# Optimize model\n",
    "m.optimize()\n",
    "```"
   ]
  },
  {
   "cell_type": "markdown",
   "id": "4ffd8bf3",
   "metadata": {},
   "source": [
    "추가된 목적식과 제약식을 바탕으로 최적화를 진행합니다."
   ]
  },
  {
   "cell_type": "markdown",
   "id": "98af4b7b",
   "metadata": {},
   "source": [
    "### 결과 분석"
   ]
  },
  {
   "cell_type": "markdown",
   "id": "57a24cdc",
   "metadata": {},
   "source": [
    "```python\n",
    "for v in m.getVars():\n",
    "    print('%s %g' % (v.varName, v.x))\n",
    "```"
   ]
  },
  {
   "cell_type": "markdown",
   "id": "a5ba9027",
   "metadata": {},
   "source": [
    "* `variable.varName()` 메서드를 통해 사전에 정의한 변수 이름에 접근 가능\n",
    "* `v.x`: 변수 v의 최적 value"
   ]
  },
  {
   "cell_type": "markdown",
   "id": "7a15aca5",
   "metadata": {},
   "source": [
    "```python\n",
    "print('Obj: %g' % m.objVal) # optimal value\n",
    "```"
   ]
  },
  {
   "cell_type": "markdown",
   "id": "1080c425",
   "metadata": {},
   "source": [
    "---"
   ]
  },
  {
   "cell_type": "markdown",
   "id": "07c52a41",
   "metadata": {},
   "source": [
    "## Consulting Company Problem"
   ]
  },
  {
   "cell_type": "markdown",
   "id": "5d008d6a",
   "metadata": {},
   "source": [
    "이거 보면서 풀어보면 감 잡힙니다. 번역은 귀찮아서...."
   ]
  },
  {
   "cell_type": "markdown",
   "id": "2ae29f14",
   "metadata": {},
   "source": [
    "### Problem Description"
   ]
  },
  {
   "cell_type": "markdown",
   "id": "9c885fb7",
   "metadata": {},
   "source": [
    "Consider a consulting company that has three open positions: Tester, Java Developer, and Architect. The three top candidates (resources) for the positions are: Carlos, Joe, and Monika. The consulting company administered competency tests to each candidate in order to assess their ability to perform each of the jobs. The results of these tests are called matching scores. Assume that only one candidate can be assigned to a job, and at most one job can be assigned to a candidate.\n",
    "\n",
    "The problem is to determine an assignment of resources and jobs such that each job is fulfilled, each resource is assigned to at most one job, and the total matching scores of the assignments is maximized."
   ]
  },
  {
   "cell_type": "markdown",
   "id": "bca9a2dd",
   "metadata": {},
   "source": [
    "### Data\n",
    "The list $R$ contains the names of the three resources: Carlos, Joe, and Monika.\n",
    "\n",
    "The list $J$ contains the names of the job positions: Tester, Java Developer, and Architect.\n",
    "\n",
    "$r \\in R$: index and set of resources. The resource $r$ belongs to the set of resources $R$.\n",
    "\n",
    "$j \\in J$: index and set of jobs. The job $j$ belongs to the set of jobs $J$."
   ]
  },
  {
   "cell_type": "markdown",
   "id": "956c7001",
   "metadata": {},
   "source": [
    "For each resource $r$ and job $j$, there is a corresponding matching score $s$. The matching score $s$ can only take values between 0 and 100. That is, $s_{r,j} \\in [0, 100]$ for all resources $r \\in R$ and jobs $j \\in J$. "
   ]
  },
  {
   "cell_type": "markdown",
   "id": "6903e16b",
   "metadata": {},
   "source": [
    "![](https://github.com/Gurobi/modeling-examples/blob/master/intro_to_modeling/matching_score_data.PNG?raw=1)"
   ]
  },
  {
   "cell_type": "code",
   "execution_count": 37,
   "id": "7a9858c5",
   "metadata": {},
   "outputs": [],
   "source": [
    "# Resource and job sets\n",
    "R = ['Carlos', 'Joe', 'Monika']\n",
    "J = ['Tester', 'JavaDeveloper', 'Architect']"
   ]
  },
  {
   "cell_type": "code",
   "execution_count": 38,
   "id": "8f7c1611",
   "metadata": {},
   "outputs": [
    {
     "name": "stdout",
     "output_type": "stream",
     "text": [
      "Help on built-in function multidict in module gurobipy:\n",
      "\n",
      "multidict(...)\n",
      "    ROUTINE:\n",
      "      multidict(data)\n",
      "    PURPOSE:\n",
      "      Split a single dictionary into multiple dictionaries.\n",
      "    ARGUMENTS:\n",
      "      data: A dictionary that maps each key to a list of 'n' values.\n",
      "    RETURN VALUE:\n",
      "      A list of the shared keys, followed by individual tupledicts.\n",
      "    EXAMPLE:\n",
      "      (keys, dict1, dict2) = multidict( {\n",
      "               'key1': [1, 2],\n",
      "               'key2': [1, 3],\n",
      "               'key3': [1, 4] } )\n",
      "\n"
     ]
    }
   ],
   "source": [
    "help(gp.multidict)"
   ]
  },
  {
   "cell_type": "code",
   "execution_count": 39,
   "id": "f99c6819",
   "metadata": {},
   "outputs": [],
   "source": [
    "# Matching score data\n",
    "combinations, scores = gp.multidict({\n",
    "    ('Carlos', 'Tester'): 53,\n",
    "    ('Carlos', 'JavaDeveloper'): 27,\n",
    "    ('Carlos', 'Architect'): 13,\n",
    "    ('Joe', 'Tester'): 80,\n",
    "    ('Joe', 'JavaDeveloper'): 47,\n",
    "    ('Joe', 'Architect'): 67,\n",
    "    ('Monika', 'Tester'): 53,\n",
    "    ('Monika', 'JavaDeveloper'): 73,\n",
    "    ('Monika', 'Architect'): 47\n",
    "})"
   ]
  },
  {
   "cell_type": "markdown",
   "id": "c34cbde1",
   "metadata": {},
   "source": [
    "The following constructor creates an empty ``Model`` object “m”. We specify the model name by passing the string \"RAP\" as an argument. The ``Model`` object “m” holds a single optimization problem. It consists of a set of variables, a set of constraints, and the objective function."
   ]
  },
  {
   "cell_type": "code",
   "execution_count": 40,
   "id": "fa1e6788",
   "metadata": {},
   "outputs": [],
   "source": [
    "# Declare and initialize model\n",
    "m = gp.Model('RAP')"
   ]
  },
  {
   "cell_type": "markdown",
   "id": "3a2eb612",
   "metadata": {},
   "source": [
    "### Decision Variables"
   ]
  },
  {
   "cell_type": "markdown",
   "id": "60020a0b",
   "metadata": {},
   "source": [
    "To solve this assignment problem, we need to identify which resource is assigned to which job. We introduce a decision variable for each possible assignment of resources to jobs. Therefore, we have 9 decision variables.\n",
    "\n",
    "To simplify the mathematical notation of the model formulation, we define the following indices for resources and jobs:\n",
    "\n",
    "![](https://github.com/Gurobi/modeling-examples/blob/master/intro_to_modeling/decision_variables.PNG?raw=1)\n",
    "\n",
    "For example, $x_{2,1}$ is the decision variable associated with assigning the resource Joe to the job Tester. Therefore, decision variable $x_{r,j}$ equals 1 if resource $r \\in R$  is assigned to job $j \\in J$, and 0 otherwise.\n",
    "\n",
    "The ``Model.addVars()`` method creates the decision variables for a ``Model`` object.\n",
    "This method returns a Gurobi ``tupledict`` object that contains the newly created variables. We supply the ``combinations`` object as the first argument to specify the variable indices. The ``name`` keyword is used to specify a name for the newly created decision variables. By default, variables are assumed to be non-negative."
   ]
  },
  {
   "cell_type": "code",
   "execution_count": 41,
   "id": "ee8f99b4",
   "metadata": {},
   "outputs": [
    {
     "data": {
      "text/plain": [
       "<gurobi.tuplelist (9 tuples, 2 values each):\n",
       " ( Carlos , Tester        )\n",
       " ( Carlos , JavaDeveloper )\n",
       " ( Carlos , Architect     )\n",
       " ( Joe    , Tester        )\n",
       " ( Joe    , JavaDeveloper )\n",
       " ( Joe    , Architect     )\n",
       " ( Monika , Tester        )\n",
       " ( Monika , JavaDeveloper )\n",
       " ( Monika , Architect     )\n",
       ">"
      ]
     },
     "execution_count": 41,
     "metadata": {},
     "output_type": "execute_result"
    }
   ],
   "source": [
    "combinations"
   ]
  },
  {
   "cell_type": "code",
   "execution_count": 42,
   "id": "a36e88f7",
   "metadata": {},
   "outputs": [],
   "source": [
    "# Create decision variables for the RAP model\n",
    "x = m.addVars(combinations, name=\"assign\")"
   ]
  },
  {
   "cell_type": "markdown",
   "id": "e73bc315",
   "metadata": {},
   "source": [
    "### Job constraints\n",
    "\n",
    "We now discuss the constraints associated with the jobs. These constraints need to ensure that each job is filled by exactly one resource.\n",
    "\n",
    "The job constraint for the Tester position requires that resource 1 (Carlos), resource 2 (Joe), or resource 3 (Monika) is assigned to this job. This corresponds to the following constraint.\n",
    "\n",
    "Constraint (Tester=1)\n",
    "\n",
    "$$\n",
    "x_{1,1} + x_{2,1} + x_{3,1} = 1\n",
    "$$\n",
    "\n",
    "Similarly, the constraints for the Java Developer and Architect positions can be defined as follows.\n",
    "\n",
    "Constraint (Java Developer = 2)\n",
    "\n",
    "$$\n",
    "x_{1,2} + x_{2,2} + x_{3,2} = 1\n",
    "$$\n",
    "\n",
    "Constraint (Architect = 3)\n",
    "\n",
    "$$\n",
    "x_{1,3} + x_{2,3} + x_{3,3} = 1\n",
    "$$\n",
    "\n",
    "The job constraints are defined by the columns of the following table.\n",
    "\n",
    "![jobs](https://github.com/Gurobi/modeling-examples/blob/master/intro_to_modeling/jobs_constraints.PNG?raw=1)\n",
    "\n",
    "In general, the constraint for the job Tester can defined as follows.\n",
    "\n",
    "$$\n",
    "x_{1,1} + x_{2,1} + x_{3,1} = \\sum_{r=1}^{3 } x_{r,1} =  \\sum_{r \\in R} x_{r,1} = 1\n",
    "$$\n",
    "\n",
    "All of the job constraints can be defined in a similarly succinct manner. For each job $j \\in J$, take the summation of the decision variables over all the resources. We can write the corresponding job constraint as follows.\n",
    "\n",
    "$$\n",
    "\\sum_{r \\in R} x_{r,j} = 1\n",
    "$$\n",
    "\n",
    "The ``Model.addConstrs()`` method of the Gurobi/Python API defines the job constraints of the ``Model`` object “m”. This method returns a Gurobi ``tupledict`` object that contains the job constraints. \n",
    "The first argument of this method, \"x.sum(‘*’, j)\", is the sum method and defines the LHS of the jobs constraints as follows:\n",
    "For each job $j$ in the set of jobs $J$, take the summation of the decision variables over all the resources. The $==$  defines an equality constraint, and the number \"1\" is the RHS of the constraints.\n",
    "These constraints are saying that exactly one resource should be assigned to each job.\n",
    "The second argument is the name of this type of constraints.\n"
   ]
  },
  {
   "cell_type": "code",
   "execution_count": 43,
   "id": "58a638fb",
   "metadata": {},
   "outputs": [],
   "source": [
    "# Create job constraints\n",
    "jobs = m.addConstrs((x.sum('*',j) == 1 for j in J), name='job')"
   ]
  },
  {
   "cell_type": "markdown",
   "id": "a5083b07",
   "metadata": {},
   "source": [
    "### Resource constraints\n",
    "\n",
    "The constraints for the resources need to ensure that at most one job is assigned to each resource. That is, it is possible that not all the resources are assigned.\n",
    "\n",
    "For example, we want a constraint that requires Carlos to be assigned to at most one of the jobs: either job 1 (Tester), job 2 (Java Developer ), or job 3 (Architect). We can write this constraint as follows.\n",
    "\n",
    "Constraint (Carlos=1)\n",
    "\n",
    "$$\n",
    "x_{1, 1} + x_{1, 2} + x_{1, 3}  \\leq 1.\n",
    "$$\n",
    "\n",
    "This constraint is less or equal than 1 to allow the possibility that Carlos is not assigned to any job. Similarly, the constraints for the resources Joe and Monika can be defined as follows:\n",
    "\n",
    "Constraint (Joe=2) \n",
    "\n",
    "$$\n",
    "x_{2, 1} + x_{2, 2} + x_{2, 3}  \\leq 1.\n",
    "$$\n",
    "\n",
    "Constraint (Monika=3)\n",
    "\n",
    "$$\n",
    "x_{3, 1} + x_{3, 2} + x_{3, 3}  \\leq 1.\n",
    "$$\n",
    "\n",
    "Observe that the resource constraints are defined by the rows of the following table.\n",
    "\n",
    "![resources](https://github.com/Gurobi/modeling-examples/blob/master/intro_to_modeling/resource_constraints.PNG?raw=1)\n",
    "\n",
    "The constraint for the resource Carlos can be defined as follows.\n",
    "\n",
    "$$\n",
    "x_{1, 1} + x_{1, 2} + x_{1, 3} = \\sum_{j=1}^{3 } x_{1,j} = \\sum_{j \\in J} x_{1,j} \\leq 1.\n",
    "$$\n",
    "\n",
    "Again, each of these constraints can be written in a succinct manner. For each resource $r \\in R$, take the summation of the decision variables over all the jobs. We can write the corresponding resource constraint as follows.\n",
    "\n",
    "$$\n",
    "\\sum_{j \\in J} x_{r,j} \\leq  1.\n",
    "$$\n",
    "\n",
    "The ``Model.addConstrs()`` method of the Gurobi/Python API defines the resource constraints of the ``Model`` object “m”. \n",
    "The first argument of this method, \"x.sum(r, ‘*’)\", is the sum method and defines the LHS of the resource constraints as follows: For each resource $r$ in the set of resources $R$, take the summation of the decision variables over all the jobs.\n",
    "The $<=$  defines a less or equal constraints, and the number “1” is the RHS of the constraints.\n",
    "These constraints are saying that each resource can be assigned to at most 1 job.\n",
    "The second argument is the name of this type of constraints.\n"
   ]
  },
  {
   "cell_type": "code",
   "execution_count": 44,
   "id": "16c6b102",
   "metadata": {},
   "outputs": [],
   "source": [
    "# Create resource constraints\n",
    "resources = m.addConstrs((x.sum(r,'*') <= 1 for r in R), name='resource')"
   ]
  },
  {
   "cell_type": "markdown",
   "id": "3aa0d52d",
   "metadata": {},
   "source": [
    "### Objective function\n",
    "\n",
    "The objective function is to maximize the total matching score of the assignments that satisfy the job and resource constraints. \n",
    "\n",
    "For the Tester job, the matching score is $53x_{1,1}$, if resource Carlos is assigned, or $80x_{2,1}$, if resource Joe is assigned, or $53x_{3,1}$, if resource Monika is assigned.\n",
    "Consequently, the matching score for the Tester job is as follows, where only one term in this summation will be nonzero.\n",
    "\n",
    "$$\n",
    "53x_{1,1} + 80x_{2,1} + 53x_{3,1}. \n",
    "$$\n",
    "\n",
    "Similarly, the matching scores for the Java Developer and Architect jobs are defined as follows. The matching score for the Java Developer job is:\n",
    "\n",
    "$$\n",
    "27x_{1, 2} + 47x_{2, 2} + 73x_{3, 2}.\n",
    "$$\n",
    "\n",
    "The matching score for the Architect job is:\n",
    "\n",
    "$$\n",
    "13x_{1, 3} + 67x_{2, 3} + 47x_{3, 3}.\n",
    "$$\n",
    "\n",
    "The total matching score is the summation of each cell in the following table.\n",
    "\n",
    "![objfcn](https://github.com/Gurobi/modeling-examples/blob/master/intro_to_modeling/objective_function.PNG?raw=1)\n",
    "\n",
    "The goal is to  maximize the total matching score of the assignments. Therefore, the objective function is defined as follows.\n",
    "\n",
    "\\begin{equation}\n",
    "\\text{Maximize} \\quad (53x_{1,1} + 80x_{2,1} + 53x_{3,1}) \\; +\n",
    "\\end{equation}\n",
    "\n",
    "\\begin{equation}\n",
    "\\quad (27x_{1, 2} + 47x_{2, 2} + 73x_{3, 2}) \\; +\n",
    "\\end{equation}\n",
    "\n",
    "\\begin{equation}\n",
    "\\quad (13x_{1, 3} + 67x_{2, 3} + 47x_{3, 3}).\n",
    "\\end{equation}\n",
    "\n",
    "Each term in parenthesis in the objective function can be expressed as follows.\n",
    "\n",
    "\\begin{equation}\n",
    "(53x_{1,1} + 80x_{2,1} + 53x_{3,1}) = \\sum_{r \\in R} s_{r,1}x_{r,1}.\n",
    "\\end{equation}\n",
    "\n",
    "\\begin{equation}\n",
    "(27x_{1, 2} + 47x_{2, 2} + 73x_{3, 2}) = \\sum_{r \\in R} s_{r,2}x_{r,2}.\n",
    "\\end{equation}\n",
    "\n",
    "\\begin{equation}\n",
    "(13x_{1, 3} + 67x_{2, 3} + 47x_{3, 3}) = \\sum_{r \\in R} s_{r,3}x_{r,3}.\n",
    "\\end{equation}\n",
    "\n",
    "Hence, the objective function can be concisely written as:\n",
    "\n",
    "\\begin{equation}\n",
    "\\text{Maximize} \\quad \\sum_{j \\in J} \\sum_{r \\in R} s_{r,j}x_{r,j}.\n",
    "\\end{equation}\n",
    "\n",
    "The ``Model.setObjective()`` method of the Gurobi/Python API defines the objective function of the ``Model`` object “m”. The objective expression is specified in the first argument of this method.\n",
    "Notice that both the matching score parameters “score” and the assignment decision variables “x” are defined over the “combinations” keys. Therefore, we use the method “x.prod(score)” to obtain the summation of the elementwise multiplication of the \"score\" matrix and the \"x\" variable matrix.\n",
    "The second argument, ``GRB.MAXIMIZE``, is the optimization \"sense.\" In this case, we want to *maximize* the total matching scores of all assignments."
   ]
  },
  {
   "cell_type": "code",
   "execution_count": 52,
   "id": "e9022ee4",
   "metadata": {},
   "outputs": [
    {
     "data": {
      "text/plain": [
       "{('Carlos', 'Tester'): 53,\n",
       " ('Carlos', 'JavaDeveloper'): 27,\n",
       " ('Carlos', 'Architect'): 13,\n",
       " ('Joe', 'Tester'): 80,\n",
       " ('Joe', 'JavaDeveloper'): 47,\n",
       " ('Joe', 'Architect'): 67,\n",
       " ('Monika', 'Tester'): 53,\n",
       " ('Monika', 'JavaDeveloper'): 73,\n",
       " ('Monika', 'Architect'): 47}"
      ]
     },
     "execution_count": 52,
     "metadata": {},
     "output_type": "execute_result"
    }
   ],
   "source": [
    "scores"
   ]
  },
  {
   "cell_type": "code",
   "execution_count": 54,
   "id": "cd528405",
   "metadata": {},
   "outputs": [
    {
     "data": {
      "text/plain": [
       "<gurobi.LinExpr: 53.0 assign[Carlos,Tester] + 27.0 assign[Carlos,JavaDeveloper] + 13.0 assign[Carlos,Architect] + 80.0 assign[Joe,Tester] + 47.0 assign[Joe,JavaDeveloper] + 67.0 assign[Joe,Architect] + 53.0 assign[Monika,Tester] + 73.0 assign[Monika,JavaDeveloper] + 47.0 assign[Monika,Architect]>"
      ]
     },
     "execution_count": 54,
     "metadata": {},
     "output_type": "execute_result"
    }
   ],
   "source": [
    "x.prod(scores)"
   ]
  },
  {
   "cell_type": "code",
   "execution_count": 45,
   "id": "9c182a85",
   "metadata": {},
   "outputs": [],
   "source": [
    "# Objective: maximize total matching score of all assignments\n",
    "m.setObjective(x.prod(scores), GRB.MAXIMIZE)"
   ]
  },
  {
   "cell_type": "code",
   "execution_count": 47,
   "id": "b2e93fcb",
   "metadata": {},
   "outputs": [],
   "source": [
    "# Save model for inspection\n",
    "m.write('RAP.lp')"
   ]
  },
  {
   "cell_type": "code",
   "execution_count": 49,
   "id": "0683c142",
   "metadata": {},
   "outputs": [
    {
     "name": "stdout",
     "output_type": "stream",
     "text": [
      "Maximize\n",
      "   <gurobi.LinExpr: 53.0 assign[Carlos,Tester] + 27.0 assign[Carlos,JavaDeveloper] + 13.0 assign[Carlos,Architect] + 80.0 assign[Joe,Tester] + 47.0 assign[Joe,JavaDeveloper] + 67.0 assign[Joe,Architect] + 53.0 assign[Monika,Tester] + 73.0 assign[Monika,JavaDeveloper] + 47.0 assign[Monika,Architect]>\n",
      "Subject To\n",
      "   job[Tester] : <gurobi.LinExpr: assign[Carlos,Tester] + assign[Joe,Tester] + assign[Monika,Tester]> = 1.0\n",
      "   job[JavaDeveloper] : <gurobi.LinExpr: assign[Carlos,JavaDeveloper] + assign[Joe,JavaDeveloper] + assign[Monika,JavaDeveloper]> = 1.0\n",
      "   job[Architect] : <gurobi.LinExpr: assign[Carlos,Architect] + assign[Joe,Architect] + assign[Monika,Architect]> = 1.0\n",
      "   resource[Carlos] : <gurobi.LinExpr: assign[Carlos,Tester] + assign[Carlos,JavaDeveloper] + assign[Carlos,Architect]> <= 1.0\n",
      "   resource[Joe] : <gurobi.LinExpr: assign[Joe,Tester] + assign[Joe,JavaDeveloper] + assign[Joe,Architect]> <= 1.0\n",
      "   resource[Monika] : <gurobi.LinExpr: assign[Monika,Tester] + assign[Monika,JavaDeveloper] + assign[Monika,Architect]> <= 1.0\n"
     ]
    }
   ],
   "source": [
    "m.display()"
   ]
  },
  {
   "cell_type": "code",
   "execution_count": 50,
   "id": "540a7ea7",
   "metadata": {},
   "outputs": [
    {
     "name": "stdout",
     "output_type": "stream",
     "text": [
      "Gurobi Optimizer version 9.1.2 build v9.1.2rc0 (win64)\n",
      "Thread count: 8 physical cores, 16 logical processors, using up to 16 threads\n",
      "Optimize a model with 6 rows, 9 columns and 18 nonzeros\n",
      "Model fingerprint: 0xb343b6eb\n",
      "Coefficient statistics:\n",
      "  Matrix range     [1e+00, 1e+00]\n",
      "  Objective range  [1e+01, 8e+01]\n",
      "  Bounds range     [0e+00, 0e+00]\n",
      "  RHS range        [1e+00, 1e+00]\n",
      "Presolve time: 0.00s\n",
      "Presolved: 6 rows, 9 columns, 18 nonzeros\n",
      "\n",
      "Iteration    Objective       Primal Inf.    Dual Inf.      Time\n",
      "       0    4.6000000e+32   1.800000e+31   4.600000e+02      0s\n",
      "       5    1.9300000e+02   0.000000e+00   0.000000e+00      0s\n",
      "\n",
      "Solved in 5 iterations and 0.01 seconds\n",
      "Optimal objective  1.930000000e+02\n"
     ]
    }
   ],
   "source": [
    "# Run optimization engine\n",
    "m.optimize()"
   ]
  },
  {
   "cell_type": "code",
   "execution_count": 51,
   "id": "c0794169",
   "metadata": {},
   "outputs": [
    {
     "name": "stdout",
     "output_type": "stream",
     "text": [
      "assign[Carlos,Tester] 1.0\n",
      "assign[Joe,Architect] 1.0\n",
      "assign[Monika,JavaDeveloper] 1.0\n",
      "Total matching score:  193.0\n"
     ]
    }
   ],
   "source": [
    "# Display optimal values of decision variables\n",
    "for v in m.getVars():\n",
    "    if v.x > 1e-6:\n",
    "        print(v.varName, v.x)\n",
    "\n",
    "# Display optimal total matching score\n",
    "print('Total matching score: ', m.objVal)"
   ]
  }
 ],
 "metadata": {
  "kernelspec": {
   "display_name": "Python 3",
   "language": "python",
   "name": "python3"
  },
  "language_info": {
   "codemirror_mode": {
    "name": "ipython",
    "version": 3
   },
   "file_extension": ".py",
   "mimetype": "text/x-python",
   "name": "python",
   "nbconvert_exporter": "python",
   "pygments_lexer": "ipython3",
   "version": "3.8.8"
  },
  "toc": {
   "base_numbering": 1,
   "nav_menu": {},
   "number_sections": true,
   "sideBar": true,
   "skip_h1_title": true,
   "title_cell": "Table of Contents",
   "title_sidebar": "Contents",
   "toc_cell": true,
   "toc_position": {},
   "toc_section_display": true,
   "toc_window_display": false
  }
 },
 "nbformat": 4,
 "nbformat_minor": 5
}
